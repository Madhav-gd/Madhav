{
 "cells": [
  {
   "cell_type": "code",
   "execution_count": 1,
   "id": "e3521338",
   "metadata": {
    "_cell_guid": "b1076dfc-b9ad-4769-8c92-a6c4dae69d19",
    "_uuid": "8f2839f25d086af736a60e9eeb907d3b93b6e0e5",
    "execution": {
     "iopub.execute_input": "2024-07-25T08:06:25.238660Z",
     "iopub.status.busy": "2024-07-25T08:06:25.237656Z",
     "iopub.status.idle": "2024-07-25T08:06:25.249749Z",
     "shell.execute_reply": "2024-07-25T08:06:25.248813Z",
     "shell.execute_reply.started": "2024-07-25T08:01:52.454424Z"
    },
    "papermill": {
     "duration": 0.074254,
     "end_time": "2024-07-25T08:06:25.249994",
     "exception": false,
     "start_time": "2024-07-25T08:06:25.175740",
     "status": "completed"
    },
    "tags": []
   },
   "outputs": [
    {
     "name": "stdout",
     "output_type": "stream",
     "text": [
      "/kaggle/input/youtube-adview-dataset/train.csv\n",
      "/kaggle/input/youtube-adview-dataset/test.csv\n"
     ]
    }
   ],
   "source": [
    "#View Count Visionary: A Data-Driven Approach To Forecasting YouTube Video Views.\n",
    "\n",
    "import numpy as np \n",
    "import pandas as pd\n",
    "import matplotlib.cm as cm\n",
    "import matplotlib.pyplot as plt\n",
    "import os\n",
    "for dirname, _, filenames in os.walk('/kaggle/input'):\n",
    "    for filename in filenames:\n",
    "        print(os.path.join(dirname, filename))"
   ]
  },
  {
   "cell_type": "code",
   "execution_count": 2,
   "id": "bf8b03ee",
   "metadata": {
    "execution": {
     "iopub.execute_input": "2024-07-25T08:06:25.350150Z",
     "iopub.status.busy": "2024-07-25T08:06:25.349006Z",
     "iopub.status.idle": "2024-07-25T08:06:25.352664Z",
     "shell.execute_reply": "2024-07-25T08:06:25.351824Z",
     "shell.execute_reply.started": "2024-07-25T08:01:52.465753Z"
    },
    "papermill": {
     "duration": 0.056267,
     "end_time": "2024-07-25T08:06:25.352869",
     "exception": false,
     "start_time": "2024-07-25T08:06:25.296602",
     "status": "completed"
    },
    "tags": []
   },
   "outputs": [],
   "source": [
    "import warnings\n",
    "warnings.filterwarnings('ignore')"
   ]
  },
  {
   "cell_type": "code",
   "execution_count": 3,
   "id": "f24b5925",
   "metadata": {
    "execution": {
     "iopub.execute_input": "2024-07-25T08:06:25.460582Z",
     "iopub.status.busy": "2024-07-25T08:06:25.459478Z",
     "iopub.status.idle": "2024-07-25T08:06:25.533025Z",
     "shell.execute_reply": "2024-07-25T08:06:25.532237Z",
     "shell.execute_reply.started": "2024-07-25T08:01:52.479067Z"
    },
    "papermill": {
     "duration": 0.13086,
     "end_time": "2024-07-25T08:06:25.533230",
     "exception": false,
     "start_time": "2024-07-25T08:06:25.402370",
     "status": "completed"
    },
    "tags": []
   },
   "outputs": [],
   "source": [
    "df = pd.read_csv(\"../input/youtube-adview-dataset/train.csv\")"
   ]
  },
  {
   "cell_type": "code",
   "execution_count": 4,
   "id": "f3d483a6",
   "metadata": {
    "execution": {
     "iopub.execute_input": "2024-07-25T08:06:25.637038Z",
     "iopub.status.busy": "2024-07-25T08:06:25.636042Z",
     "iopub.status.idle": "2024-07-25T08:06:25.659906Z",
     "shell.execute_reply": "2024-07-25T08:06:25.660556Z",
     "shell.execute_reply.started": "2024-07-25T08:01:52.523089Z"
    },
    "papermill": {
     "duration": 0.081843,
     "end_time": "2024-07-25T08:06:25.660799",
     "exception": false,
     "start_time": "2024-07-25T08:06:25.578956",
     "status": "completed"
    },
    "tags": []
   },
   "outputs": [
    {
     "data": {
      "text/html": [
       "<div>\n",
       "<style scoped>\n",
       "    .dataframe tbody tr th:only-of-type {\n",
       "        vertical-align: middle;\n",
       "    }\n",
       "\n",
       "    .dataframe tbody tr th {\n",
       "        vertical-align: top;\n",
       "    }\n",
       "\n",
       "    .dataframe thead th {\n",
       "        text-align: right;\n",
       "    }\n",
       "</style>\n",
       "<table border=\"1\" class=\"dataframe\">\n",
       "  <thead>\n",
       "    <tr style=\"text-align: right;\">\n",
       "      <th></th>\n",
       "      <th>vidid</th>\n",
       "      <th>adview</th>\n",
       "      <th>views</th>\n",
       "      <th>likes</th>\n",
       "      <th>dislikes</th>\n",
       "      <th>comment</th>\n",
       "      <th>published</th>\n",
       "      <th>duration</th>\n",
       "      <th>category</th>\n",
       "    </tr>\n",
       "  </thead>\n",
       "  <tbody>\n",
       "    <tr>\n",
       "      <th>0</th>\n",
       "      <td>VID_18655</td>\n",
       "      <td>40</td>\n",
       "      <td>1031602</td>\n",
       "      <td>8523</td>\n",
       "      <td>363</td>\n",
       "      <td>1095</td>\n",
       "      <td>2016-09-14</td>\n",
       "      <td>PT7M37S</td>\n",
       "      <td>F</td>\n",
       "    </tr>\n",
       "    <tr>\n",
       "      <th>1</th>\n",
       "      <td>VID_14135</td>\n",
       "      <td>2</td>\n",
       "      <td>1707</td>\n",
       "      <td>56</td>\n",
       "      <td>2</td>\n",
       "      <td>6</td>\n",
       "      <td>2016-10-01</td>\n",
       "      <td>PT9M30S</td>\n",
       "      <td>D</td>\n",
       "    </tr>\n",
       "    <tr>\n",
       "      <th>2</th>\n",
       "      <td>VID_2187</td>\n",
       "      <td>1</td>\n",
       "      <td>2023</td>\n",
       "      <td>25</td>\n",
       "      <td>0</td>\n",
       "      <td>2</td>\n",
       "      <td>2016-07-02</td>\n",
       "      <td>PT2M16S</td>\n",
       "      <td>C</td>\n",
       "    </tr>\n",
       "    <tr>\n",
       "      <th>3</th>\n",
       "      <td>VID_23096</td>\n",
       "      <td>6</td>\n",
       "      <td>620860</td>\n",
       "      <td>777</td>\n",
       "      <td>161</td>\n",
       "      <td>153</td>\n",
       "      <td>2016-07-27</td>\n",
       "      <td>PT4M22S</td>\n",
       "      <td>H</td>\n",
       "    </tr>\n",
       "    <tr>\n",
       "      <th>4</th>\n",
       "      <td>VID_10175</td>\n",
       "      <td>1</td>\n",
       "      <td>666</td>\n",
       "      <td>1</td>\n",
       "      <td>0</td>\n",
       "      <td>0</td>\n",
       "      <td>2016-06-29</td>\n",
       "      <td>PT31S</td>\n",
       "      <td>D</td>\n",
       "    </tr>\n",
       "  </tbody>\n",
       "</table>\n",
       "</div>"
      ],
      "text/plain": [
       "       vidid  adview    views likes dislikes comment   published duration  \\\n",
       "0  VID_18655      40  1031602  8523      363    1095  2016-09-14  PT7M37S   \n",
       "1  VID_14135       2     1707    56        2       6  2016-10-01  PT9M30S   \n",
       "2   VID_2187       1     2023    25        0       2  2016-07-02  PT2M16S   \n",
       "3  VID_23096       6   620860   777      161     153  2016-07-27  PT4M22S   \n",
       "4  VID_10175       1      666     1        0       0  2016-06-29    PT31S   \n",
       "\n",
       "  category  \n",
       "0        F  \n",
       "1        D  \n",
       "2        C  \n",
       "3        H  \n",
       "4        D  "
      ]
     },
     "execution_count": 4,
     "metadata": {},
     "output_type": "execute_result"
    }
   ],
   "source": [
    "df.head()"
   ]
  },
  {
   "cell_type": "code",
   "execution_count": 5,
   "id": "a05cacb1",
   "metadata": {
    "execution": {
     "iopub.execute_input": "2024-07-25T08:06:25.761156Z",
     "iopub.status.busy": "2024-07-25T08:06:25.759998Z",
     "iopub.status.idle": "2024-07-25T08:06:25.764307Z",
     "shell.execute_reply": "2024-07-25T08:06:25.764986Z",
     "shell.execute_reply.started": "2024-07-25T08:01:52.539494Z"
    },
    "papermill": {
     "duration": 0.058409,
     "end_time": "2024-07-25T08:06:25.765230",
     "exception": false,
     "start_time": "2024-07-25T08:06:25.706821",
     "status": "completed"
    },
    "tags": []
   },
   "outputs": [
    {
     "data": {
      "text/plain": [
       "(14999, 9)"
      ]
     },
     "execution_count": 5,
     "metadata": {},
     "output_type": "execute_result"
    }
   ],
   "source": [
    "df.shape"
   ]
  },
  {
   "cell_type": "code",
   "execution_count": 6,
   "id": "990d75d7",
   "metadata": {
    "execution": {
     "iopub.execute_input": "2024-07-25T08:06:25.880747Z",
     "iopub.status.busy": "2024-07-25T08:06:25.874960Z",
     "iopub.status.idle": "2024-07-25T08:08:53.679467Z",
     "shell.execute_reply": "2024-07-25T08:08:53.680169Z",
     "shell.execute_reply.started": "2024-07-25T08:01:52.548705Z"
    },
    "papermill": {
     "duration": 147.865485,
     "end_time": "2024-07-25T08:08:53.680454",
     "exception": false,
     "start_time": "2024-07-25T08:06:25.814969",
     "status": "completed"
    },
    "tags": []
   },
   "outputs": [
    {
     "data": {
      "image/png": "[encoded data removed]",
      "text/plain": [
       "<Figure size 432x288 with 1 Axes>"
      ]
     },
     "metadata": {
      "needs_background": "light"
     },
     "output_type": "display_data"
    },
    {
     "data": {
      "image/png": "[encoded data removed]",
      "text/plain": [
       "<Figure size 432x288 with 1 Axes>"
      ]
     },
     "metadata": {
      "needs_background": "light"
     },
     "output_type": "display_data"
    }
   ],
   "source": [
    "# Visualization\n",
    "# Individual Plots\n",
    "plt.hist(df[\"category\"])\n",
    "plt.show()\n",
    "plt.plot(df[\"views\"])\n",
    "plt.show()"
   ]
  },
  {
   "cell_type": "code",
   "execution_count": 7,
   "id": "6713d9d2",
   "metadata": {
    "execution": {
     "iopub.execute_input": "2024-07-25T08:08:53.791431Z",
     "iopub.status.busy": "2024-07-25T08:08:53.790306Z",
     "iopub.status.idle": "2024-07-25T08:08:53.794477Z",
     "shell.execute_reply": "2024-07-25T08:08:53.795118Z",
     "shell.execute_reply.started": "2024-07-25T08:03:59.850100Z"
    },
    "papermill": {
     "duration": 0.065424,
     "end_time": "2024-07-25T08:08:53.795367",
     "exception": false,
     "start_time": "2024-07-25T08:08:53.729943",
     "status": "completed"
    },
    "tags": []
   },
   "outputs": [
    {
     "data": {
      "text/plain": [
       "vidid        object\n",
       "adview        int64\n",
       "views        object\n",
       "likes        object\n",
       "dislikes     object\n",
       "comment      object\n",
       "published    object\n",
       "duration     object\n",
       "category     object\n",
       "dtype: object"
      ]
     },
     "execution_count": 7,
     "metadata": {},
     "output_type": "execute_result"
    }
   ],
   "source": [
    "df.dtypes"
   ]
  },
  {
   "cell_type": "code",
   "execution_count": 8,
   "id": "0f6025d4",
   "metadata": {
    "execution": {
     "iopub.execute_input": "2024-07-25T08:08:53.912907Z",
     "iopub.status.busy": "2024-07-25T08:08:53.910128Z",
     "iopub.status.idle": "2024-07-25T08:08:53.930707Z",
     "shell.execute_reply": "2024-07-25T08:08:53.931413Z",
     "shell.execute_reply.started": "2024-07-25T08:03:59.860587Z"
    },
    "papermill": {
     "duration": 0.084766,
     "end_time": "2024-07-25T08:08:53.931678",
     "exception": false,
     "start_time": "2024-07-25T08:08:53.846912",
     "status": "completed"
    },
    "tags": []
   },
   "outputs": [
    {
     "data": {
      "text/html": [
       "<div>\n",
       "<style scoped>\n",
       "    .dataframe tbody tr th:only-of-type {\n",
       "        vertical-align: middle;\n",
       "    }\n",
       "\n",
       "    .dataframe tbody tr th {\n",
       "        vertical-align: top;\n",
       "    }\n",
       "\n",
       "    .dataframe thead th {\n",
       "        text-align: right;\n",
       "    }\n",
       "</style>\n",
       "<table border=\"1\" class=\"dataframe\">\n",
       "  <thead>\n",
       "    <tr style=\"text-align: right;\">\n",
       "      <th></th>\n",
       "      <th>vidid</th>\n",
       "      <th>adview</th>\n",
       "      <th>views</th>\n",
       "      <th>likes</th>\n",
       "      <th>dislikes</th>\n",
       "      <th>comment</th>\n",
       "      <th>published</th>\n",
       "      <th>duration</th>\n",
       "      <th>category</th>\n",
       "    </tr>\n",
       "  </thead>\n",
       "  <tbody>\n",
       "    <tr>\n",
       "      <th>0</th>\n",
       "      <td>VID_18655</td>\n",
       "      <td>40</td>\n",
       "      <td>1031602</td>\n",
       "      <td>8523</td>\n",
       "      <td>363</td>\n",
       "      <td>1095</td>\n",
       "      <td>2016-09-14</td>\n",
       "      <td>PT7M37S</td>\n",
       "      <td>6</td>\n",
       "    </tr>\n",
       "    <tr>\n",
       "      <th>1</th>\n",
       "      <td>VID_14135</td>\n",
       "      <td>2</td>\n",
       "      <td>1707</td>\n",
       "      <td>56</td>\n",
       "      <td>2</td>\n",
       "      <td>6</td>\n",
       "      <td>2016-10-01</td>\n",
       "      <td>PT9M30S</td>\n",
       "      <td>4</td>\n",
       "    </tr>\n",
       "    <tr>\n",
       "      <th>2</th>\n",
       "      <td>VID_2187</td>\n",
       "      <td>1</td>\n",
       "      <td>2023</td>\n",
       "      <td>25</td>\n",
       "      <td>0</td>\n",
       "      <td>2</td>\n",
       "      <td>2016-07-02</td>\n",
       "      <td>PT2M16S</td>\n",
       "      <td>3</td>\n",
       "    </tr>\n",
       "    <tr>\n",
       "      <th>3</th>\n",
       "      <td>VID_23096</td>\n",
       "      <td>6</td>\n",
       "      <td>620860</td>\n",
       "      <td>777</td>\n",
       "      <td>161</td>\n",
       "      <td>153</td>\n",
       "      <td>2016-07-27</td>\n",
       "      <td>PT4M22S</td>\n",
       "      <td>8</td>\n",
       "    </tr>\n",
       "    <tr>\n",
       "      <th>4</th>\n",
       "      <td>VID_10175</td>\n",
       "      <td>1</td>\n",
       "      <td>666</td>\n",
       "      <td>1</td>\n",
       "      <td>0</td>\n",
       "      <td>0</td>\n",
       "      <td>2016-06-29</td>\n",
       "      <td>PT31S</td>\n",
       "      <td>4</td>\n",
       "    </tr>\n",
       "  </tbody>\n",
       "</table>\n",
       "</div>"
      ],
      "text/plain": [
       "       vidid  adview    views likes dislikes comment   published duration  \\\n",
       "0  VID_18655      40  1031602  8523      363    1095  2016-09-14  PT7M37S   \n",
       "1  VID_14135       2     1707    56        2       6  2016-10-01  PT9M30S   \n",
       "2   VID_2187       1     2023    25        0       2  2016-07-02  PT2M16S   \n",
       "3  VID_23096       6   620860   777      161     153  2016-07-27  PT4M22S   \n",
       "4  VID_10175       1      666     1        0       0  2016-06-29    PT31S   \n",
       "\n",
       "   category  \n",
       "0         6  \n",
       "1         4  \n",
       "2         3  \n",
       "3         8  \n",
       "4         4  "
      ]
     },
     "execution_count": 8,
     "metadata": {},
     "output_type": "execute_result"
    }
   ],
   "source": [
    "category={'A': 1,'B': 2,'C': 3,'D': 4,'E': 5,'F': 6,'G': 7,'H': 8,}\n",
    "df[\"category\"]=df[\"category\"].map(category)\n",
    "df.head()"
   ]
  },
  {
   "cell_type": "code",
   "execution_count": 9,
   "id": "a60db6ec",
   "metadata": {
    "execution": {
     "iopub.execute_input": "2024-07-25T08:08:54.052034Z",
     "iopub.status.busy": "2024-07-25T08:08:54.050126Z",
     "iopub.status.idle": "2024-07-25T08:08:54.078734Z",
     "shell.execute_reply": "2024-07-25T08:08:54.077831Z",
     "shell.execute_reply.started": "2024-07-25T08:03:59.886967Z"
    },
    "papermill": {
     "duration": 0.096223,
     "end_time": "2024-07-25T08:08:54.078967",
     "exception": false,
     "start_time": "2024-07-25T08:08:53.982744",
     "status": "completed"
    },
    "tags": []
   },
   "outputs": [],
   "source": [
    "df=df[df.views!='F']\n",
    "df=df[df.likes!='F']\n",
    "df=df[df.dislikes!='F']\n",
    "df=df[df.comment!='F']"
   ]
  },
  {
   "cell_type": "code",
   "execution_count": 10,
   "id": "ac3f7c78",
   "metadata": {
    "execution": {
     "iopub.execute_input": "2024-07-25T08:08:54.223059Z",
     "iopub.status.busy": "2024-07-25T08:08:54.206354Z",
     "iopub.status.idle": "2024-07-25T08:08:54.263949Z",
     "shell.execute_reply": "2024-07-25T08:08:54.262983Z",
     "shell.execute_reply.started": "2024-07-25T08:03:59.913860Z"
    },
    "papermill": {
     "duration": 0.131325,
     "end_time": "2024-07-25T08:08:54.264160",
     "exception": false,
     "start_time": "2024-07-25T08:08:54.132835",
     "status": "completed"
    },
    "tags": []
   },
   "outputs": [],
   "source": [
    "df[\"views\"]=pd.to_numeric(df[\"views\"])\n",
    "df[\"comment\"]=pd.to_numeric(df[\"comment\"])\n",
    "df[\"likes\"]=pd.to_numeric(df[\"likes\"])\n",
    "df[\"dislikes\"]=pd.to_numeric(df[\"dislikes\"])\n",
    "df[\"adview\"]=pd.to_numeric(df[\"adview\"])"
   ]
  },
  {
   "cell_type": "code",
   "execution_count": 11,
   "id": "6b0e1fd5",
   "metadata": {
    "execution": {
     "iopub.execute_input": "2024-07-25T08:08:54.381870Z",
     "iopub.status.busy": "2024-07-25T08:08:54.380985Z",
     "iopub.status.idle": "2024-07-25T08:08:54.401019Z",
     "shell.execute_reply": "2024-07-25T08:08:54.400296Z",
     "shell.execute_reply.started": "2024-07-25T08:03:59.962907Z"
    },
    "papermill": {
     "duration": 0.086875,
     "end_time": "2024-07-25T08:08:54.401206",
     "exception": false,
     "start_time": "2024-07-25T08:08:54.314331",
     "status": "completed"
    },
    "tags": []
   },
   "outputs": [
    {
     "name": "stdout",
     "output_type": "stream",
     "text": [
      "<class 'pandas.core.frame.DataFrame'>\n",
      "Int64Index: 14637 entries, 0 to 14998\n",
      "Data columns (total 9 columns):\n",
      " #   Column     Non-Null Count  Dtype \n",
      "---  ------     --------------  ----- \n",
      " 0   vidid      14637 non-null  object\n",
      " 1   adview     14637 non-null  int64 \n",
      " 2   views      14637 non-null  int64 \n",
      " 3   likes      14637 non-null  int64 \n",
      " 4   dislikes   14637 non-null  int64 \n",
      " 5   comment    14637 non-null  int64 \n",
      " 6   published  14637 non-null  object\n",
      " 7   duration   14637 non-null  object\n",
      " 8   category   14637 non-null  int64 \n",
      "dtypes: int64(6), object(3)\n",
      "memory usage: 1.1+ MB\n"
     ]
    }
   ],
   "source": [
    "df.info()"
   ]
  },
  {
   "cell_type": "code",
   "execution_count": 12,
   "id": "c0397e55",
   "metadata": {
    "execution": {
     "iopub.execute_input": "2024-07-25T08:08:54.508711Z",
     "iopub.status.busy": "2024-07-25T08:08:54.507771Z",
     "iopub.status.idle": "2024-07-25T08:08:54.512153Z",
     "shell.execute_reply": "2024-07-25T08:08:54.511429Z",
     "shell.execute_reply.started": "2024-07-25T08:03:59.983096Z"
    },
    "papermill": {
     "duration": 0.061339,
     "end_time": "2024-07-25T08:08:54.512376",
     "exception": false,
     "start_time": "2024-07-25T08:08:54.451037",
     "status": "completed"
    },
    "tags": []
   },
   "outputs": [],
   "source": [
    "column_vidid=df['vidid']"
   ]
  },
  {
   "cell_type": "code",
   "execution_count": 13,
   "id": "e6149942",
   "metadata": {
    "execution": {
     "iopub.execute_input": "2024-07-25T08:08:54.622767Z",
     "iopub.status.busy": "2024-07-25T08:08:54.621509Z",
     "iopub.status.idle": "2024-07-25T08:08:56.020956Z",
     "shell.execute_reply": "2024-07-25T08:08:56.020108Z",
     "shell.execute_reply.started": "2024-07-25T08:03:59.989203Z"
    },
    "papermill": {
     "duration": 1.458121,
     "end_time": "2024-07-25T08:08:56.021179",
     "exception": false,
     "start_time": "2024-07-25T08:08:54.563058",
     "status": "completed"
    },
    "tags": []
   },
   "outputs": [],
   "source": [
    "from sklearn.preprocessing import LabelEncoder"
   ]
  },
  {
   "cell_type": "code",
   "execution_count": 14,
   "id": "1cb1e3a2",
   "metadata": {
    "execution": {
     "iopub.execute_input": "2024-07-25T08:08:56.145496Z",
     "iopub.status.busy": "2024-07-25T08:08:56.138598Z",
     "iopub.status.idle": "2024-07-25T08:08:56.180723Z",
     "shell.execute_reply": "2024-07-25T08:08:56.179981Z",
     "shell.execute_reply.started": "2024-07-25T08:04:00.001167Z"
    },
    "papermill": {
     "duration": 0.107729,
     "end_time": "2024-07-25T08:08:56.180935",
     "exception": false,
     "start_time": "2024-07-25T08:08:56.073206",
     "status": "completed"
    },
    "tags": []
   },
   "outputs": [],
   "source": [
    "df['duration']=LabelEncoder().fit_transform(df['duration'])\n",
    "df['vidid']=LabelEncoder().fit_transform(df['vidid'])\n",
    "df['published']=LabelEncoder().fit_transform(df['published'])"
   ]
  },
  {
   "cell_type": "code",
   "execution_count": 15,
   "id": "20748935",
   "metadata": {
    "execution": {
     "iopub.execute_input": "2024-07-25T08:08:56.303898Z",
     "iopub.status.busy": "2024-07-25T08:08:56.301249Z",
     "iopub.status.idle": "2024-07-25T08:08:56.309259Z",
     "shell.execute_reply": "2024-07-25T08:08:56.308330Z",
     "shell.execute_reply.started": "2024-07-25T08:04:00.039396Z"
    },
    "papermill": {
     "duration": 0.073411,
     "end_time": "2024-07-25T08:08:56.309525",
     "exception": false,
     "start_time": "2024-07-25T08:08:56.236114",
     "status": "completed"
    },
    "tags": []
   },
   "outputs": [
    {
     "data": {
      "text/html": [
       "<div>\n",
       "<style scoped>\n",
       "    .dataframe tbody tr th:only-of-type {\n",
       "        vertical-align: middle;\n",
       "    }\n",
       "\n",
       "    .dataframe tbody tr th {\n",
       "        vertical-align: top;\n",
       "    }\n",
       "\n",
       "    .dataframe thead th {\n",
       "        text-align: right;\n",
       "    }\n",
       "</style>\n",
       "<table border=\"1\" class=\"dataframe\">\n",
       "  <thead>\n",
       "    <tr style=\"text-align: right;\">\n",
       "      <th></th>\n",
       "      <th>vidid</th>\n",
       "      <th>adview</th>\n",
       "      <th>views</th>\n",
       "      <th>likes</th>\n",
       "      <th>dislikes</th>\n",
       "      <th>comment</th>\n",
       "      <th>published</th>\n",
       "      <th>duration</th>\n",
       "      <th>category</th>\n",
       "    </tr>\n",
       "  </thead>\n",
       "  <tbody>\n",
       "    <tr>\n",
       "      <th>0</th>\n",
       "      <td>5912</td>\n",
       "      <td>40</td>\n",
       "      <td>1031602</td>\n",
       "      <td>8523</td>\n",
       "      <td>363</td>\n",
       "      <td>1095</td>\n",
       "      <td>2168</td>\n",
       "      <td>2925</td>\n",
       "      <td>6</td>\n",
       "    </tr>\n",
       "    <tr>\n",
       "      <th>1</th>\n",
       "      <td>2741</td>\n",
       "      <td>2</td>\n",
       "      <td>1707</td>\n",
       "      <td>56</td>\n",
       "      <td>2</td>\n",
       "      <td>6</td>\n",
       "      <td>2185</td>\n",
       "      <td>3040</td>\n",
       "      <td>4</td>\n",
       "    </tr>\n",
       "    <tr>\n",
       "      <th>2</th>\n",
       "      <td>8138</td>\n",
       "      <td>1</td>\n",
       "      <td>2023</td>\n",
       "      <td>25</td>\n",
       "      <td>0</td>\n",
       "      <td>2</td>\n",
       "      <td>2094</td>\n",
       "      <td>1863</td>\n",
       "      <td>3</td>\n",
       "    </tr>\n",
       "    <tr>\n",
       "      <th>3</th>\n",
       "      <td>9005</td>\n",
       "      <td>6</td>\n",
       "      <td>620860</td>\n",
       "      <td>777</td>\n",
       "      <td>161</td>\n",
       "      <td>153</td>\n",
       "      <td>2119</td>\n",
       "      <td>2546</td>\n",
       "      <td>8</td>\n",
       "    </tr>\n",
       "    <tr>\n",
       "      <th>4</th>\n",
       "      <td>122</td>\n",
       "      <td>1</td>\n",
       "      <td>666</td>\n",
       "      <td>1</td>\n",
       "      <td>0</td>\n",
       "      <td>0</td>\n",
       "      <td>2091</td>\n",
       "      <td>1963</td>\n",
       "      <td>4</td>\n",
       "    </tr>\n",
       "  </tbody>\n",
       "</table>\n",
       "</div>"
      ],
      "text/plain": [
       "   vidid  adview    views  likes  dislikes  comment  published  duration  \\\n",
       "0   5912      40  1031602   8523       363     1095       2168      2925   \n",
       "1   2741       2     1707     56         2        6       2185      3040   \n",
       "2   8138       1     2023     25         0        2       2094      1863   \n",
       "3   9005       6   620860    777       161      153       2119      2546   \n",
       "4    122       1      666      1         0        0       2091      1963   \n",
       "\n",
       "   category  \n",
       "0         6  \n",
       "1         4  \n",
       "2         3  \n",
       "3         8  \n",
       "4         4  "
      ]
     },
     "execution_count": 15,
     "metadata": {},
     "output_type": "execute_result"
    }
   ],
   "source": [
    "df.head()"
   ]
  },
  {
   "cell_type": "code",
   "execution_count": 16,
   "id": "2b9614c9",
   "metadata": {
    "execution": {
     "iopub.execute_input": "2024-07-25T08:08:56.424433Z",
     "iopub.status.busy": "2024-07-25T08:08:56.423065Z",
     "iopub.status.idle": "2024-07-25T08:08:56.426563Z",
     "shell.execute_reply": "2024-07-25T08:08:56.425791Z",
     "shell.execute_reply.started": "2024-07-25T08:04:00.055550Z"
    },
    "papermill": {
     "duration": 0.061624,
     "end_time": "2024-07-25T08:08:56.426764",
     "exception": false,
     "start_time": "2024-07-25T08:08:56.365140",
     "status": "completed"
    },
    "tags": []
   },
   "outputs": [],
   "source": [
    "import datetime\n",
    "import time"
   ]
  },
  {
   "cell_type": "code",
   "execution_count": 17,
   "id": "5566caa8",
   "metadata": {
    "execution": {
     "iopub.execute_input": "2024-07-25T08:08:56.546420Z",
     "iopub.status.busy": "2024-07-25T08:08:56.540470Z",
     "iopub.status.idle": "2024-07-25T08:08:56.701321Z",
     "shell.execute_reply": "2024-07-25T08:08:56.700520Z",
     "shell.execute_reply.started": "2024-07-25T08:04:00.064942Z"
    },
    "papermill": {
     "duration": 0.222188,
     "end_time": "2024-07-25T08:08:56.701557",
     "exception": false,
     "start_time": "2024-07-25T08:08:56.479369",
     "status": "completed"
    },
    "tags": []
   },
   "outputs": [],
   "source": [
    "def checki(x):\n",
    "  y=x[2:]\n",
    "  h=''\n",
    "  m=''\n",
    "  s=''\n",
    "  mm=''\n",
    "  p= ['H','M','S']\n",
    "  for i in y:\n",
    "    if i not in p:\n",
    "      mm+=i\n",
    "    else:\n",
    "      if(i==\"H\"):\n",
    "        h=mm\n",
    "        mm=''\n",
    "      elif(i==\"M\"):\n",
    "        m=mm\n",
    "        mm=''\n",
    "      else:\n",
    "        s=mm\n",
    "        mm=''\n",
    "  if(h==''):\n",
    "    h='00'\n",
    "  if(m==''):\n",
    "    m='00'\n",
    "  if(s==''):\n",
    "    m='00'\n",
    "  bp = h+':'+m+':'+s\n",
    "  return bp\n",
    "train = pd.read_csv(\"../input/youtube-adview-dataset/train.csv\")\n",
    "mp=pd.read_csv(\"../input/youtube-adview-dataset/train.csv\")[\"duration\"]\n",
    "time=mp.apply(checki)"
   ]
  },
  {
   "cell_type": "code",
   "execution_count": 18,
   "id": "555fe9a7",
   "metadata": {
    "execution": {
     "iopub.execute_input": "2024-07-25T08:08:56.825691Z",
     "iopub.status.busy": "2024-07-25T08:08:56.815009Z",
     "iopub.status.idle": "2024-07-25T08:08:56.829986Z",
     "shell.execute_reply": "2024-07-25T08:08:56.829215Z",
     "shell.execute_reply.started": "2024-07-25T08:04:00.181232Z"
    },
    "papermill": {
     "duration": 0.075941,
     "end_time": "2024-07-25T08:08:56.830180",
     "exception": false,
     "start_time": "2024-07-25T08:08:56.754239",
     "status": "completed"
    },
    "tags": []
   },
   "outputs": [
    {
     "name": "stdout",
     "output_type": "stream",
     "text": [
      "<class 'pandas.core.frame.DataFrame'>\n",
      "Int64Index: 14637 entries, 0 to 14998\n",
      "Data columns (total 9 columns):\n",
      " #   Column     Non-Null Count  Dtype\n",
      "---  ------     --------------  -----\n",
      " 0   vidid      14637 non-null  int64\n",
      " 1   adview     14637 non-null  int64\n",
      " 2   views      14637 non-null  int64\n",
      " 3   likes      14637 non-null  int64\n",
      " 4   dislikes   14637 non-null  int64\n",
      " 5   comment    14637 non-null  int64\n",
      " 6   published  14637 non-null  int64\n",
      " 7   duration   14637 non-null  int64\n",
      " 8   category   14637 non-null  int64\n",
      "dtypes: int64(9)\n",
      "memory usage: 1.1 MB\n"
     ]
    }
   ],
   "source": [
    "df.info()"
   ]
  },
  {
   "cell_type": "code",
   "execution_count": 19,
   "id": "06da1867",
   "metadata": {
    "execution": {
     "iopub.execute_input": "2024-07-25T08:08:56.943247Z",
     "iopub.status.busy": "2024-07-25T08:08:56.942315Z",
     "iopub.status.idle": "2024-07-25T08:08:56.957096Z",
     "shell.execute_reply": "2024-07-25T08:08:56.956194Z",
     "shell.execute_reply.started": "2024-07-25T08:04:00.198402Z"
    },
    "papermill": {
     "duration": 0.075567,
     "end_time": "2024-07-25T08:08:56.957286",
     "exception": false,
     "start_time": "2024-07-25T08:08:56.881719",
     "status": "completed"
    },
    "tags": []
   },
   "outputs": [
    {
     "data": {
      "text/html": [
       "<div>\n",
       "<style scoped>\n",
       "    .dataframe tbody tr th:only-of-type {\n",
       "        vertical-align: middle;\n",
       "    }\n",
       "\n",
       "    .dataframe tbody tr th {\n",
       "        vertical-align: top;\n",
       "    }\n",
       "\n",
       "    .dataframe thead th {\n",
       "        text-align: right;\n",
       "    }\n",
       "</style>\n",
       "<table border=\"1\" class=\"dataframe\">\n",
       "  <thead>\n",
       "    <tr style=\"text-align: right;\">\n",
       "      <th></th>\n",
       "      <th>vidid</th>\n",
       "      <th>adview</th>\n",
       "      <th>views</th>\n",
       "      <th>likes</th>\n",
       "      <th>dislikes</th>\n",
       "      <th>comment</th>\n",
       "      <th>published</th>\n",
       "      <th>duration</th>\n",
       "      <th>category</th>\n",
       "    </tr>\n",
       "  </thead>\n",
       "  <tbody>\n",
       "    <tr>\n",
       "      <th>0</th>\n",
       "      <td>5912</td>\n",
       "      <td>40</td>\n",
       "      <td>1031602</td>\n",
       "      <td>8523</td>\n",
       "      <td>363</td>\n",
       "      <td>1095</td>\n",
       "      <td>2168</td>\n",
       "      <td>2925</td>\n",
       "      <td>6</td>\n",
       "    </tr>\n",
       "    <tr>\n",
       "      <th>1</th>\n",
       "      <td>2741</td>\n",
       "      <td>2</td>\n",
       "      <td>1707</td>\n",
       "      <td>56</td>\n",
       "      <td>2</td>\n",
       "      <td>6</td>\n",
       "      <td>2185</td>\n",
       "      <td>3040</td>\n",
       "      <td>4</td>\n",
       "    </tr>\n",
       "    <tr>\n",
       "      <th>2</th>\n",
       "      <td>8138</td>\n",
       "      <td>1</td>\n",
       "      <td>2023</td>\n",
       "      <td>25</td>\n",
       "      <td>0</td>\n",
       "      <td>2</td>\n",
       "      <td>2094</td>\n",
       "      <td>1863</td>\n",
       "      <td>3</td>\n",
       "    </tr>\n",
       "    <tr>\n",
       "      <th>3</th>\n",
       "      <td>9005</td>\n",
       "      <td>6</td>\n",
       "      <td>620860</td>\n",
       "      <td>777</td>\n",
       "      <td>161</td>\n",
       "      <td>153</td>\n",
       "      <td>2119</td>\n",
       "      <td>2546</td>\n",
       "      <td>8</td>\n",
       "    </tr>\n",
       "    <tr>\n",
       "      <th>4</th>\n",
       "      <td>122</td>\n",
       "      <td>1</td>\n",
       "      <td>666</td>\n",
       "      <td>1</td>\n",
       "      <td>0</td>\n",
       "      <td>0</td>\n",
       "      <td>2091</td>\n",
       "      <td>1963</td>\n",
       "      <td>4</td>\n",
       "    </tr>\n",
       "  </tbody>\n",
       "</table>\n",
       "</div>"
      ],
      "text/plain": [
       "   vidid  adview    views  likes  dislikes  comment  published  duration  \\\n",
       "0   5912      40  1031602   8523       363     1095       2168      2925   \n",
       "1   2741       2     1707     56         2        6       2185      3040   \n",
       "2   8138       1     2023     25         0        2       2094      1863   \n",
       "3   9005       6   620860    777       161      153       2119      2546   \n",
       "4    122       1      666      1         0        0       2091      1963   \n",
       "\n",
       "   category  \n",
       "0         6  \n",
       "1         4  \n",
       "2         3  \n",
       "3         8  \n",
       "4         4  "
      ]
     },
     "execution_count": 19,
     "metadata": {},
     "output_type": "execute_result"
    }
   ],
   "source": [
    "def func_sec(time_string):\n",
    "  h , m, s=time_string.split(':')\n",
    "  return int(h) * 3600 + int(m) * 60 + int(s)\n",
    "\n",
    "  time1=time.apply(func_sec)\n",
    "  df[\"duration\"]=time1\n",
    "df.head()"
   ]
  },
  {
   "cell_type": "code",
   "execution_count": 20,
   "id": "c8f08806",
   "metadata": {
    "execution": {
     "iopub.execute_input": "2024-07-25T08:08:57.075836Z",
     "iopub.status.busy": "2024-07-25T08:08:57.074273Z",
     "iopub.status.idle": "2024-07-25T08:08:57.169033Z",
     "shell.execute_reply": "2024-07-25T08:08:57.168268Z",
     "shell.execute_reply.started": "2024-07-25T08:04:00.218769Z"
    },
    "papermill": {
     "duration": 0.156323,
     "end_time": "2024-07-25T08:08:57.169231",
     "exception": false,
     "start_time": "2024-07-25T08:08:57.012908",
     "status": "completed"
    },
    "tags": []
   },
   "outputs": [
    {
     "data": {
      "text/plain": [
       "(11709, 7)"
      ]
     },
     "execution_count": 20,
     "metadata": {},
     "output_type": "execute_result"
    }
   ],
   "source": [
    "# Split Data\n",
    "Y_train = pd.DataFrame(data = df.iloc[:, 1].values, columns = ['target'])\n",
    "df=df.drop([\"adview\"],axis=1)\n",
    "df=df.drop([\"vidid\"],axis=1)\n",
    "df.head()\n",
    "\n",
    "from sklearn.model_selection import train_test_split\n",
    "X_train, X_test, y_train, y_test = train_test_split(df, Y_train, test_size=0.2, random_state=42)\n",
    "\n",
    "X_train.shape\n",
    "\n"
   ]
  },
  {
   "cell_type": "code",
   "execution_count": 21,
   "id": "7c5217ce",
   "metadata": {
    "execution": {
     "iopub.execute_input": "2024-07-25T08:08:57.293608Z",
     "iopub.status.busy": "2024-07-25T08:08:57.292207Z",
     "iopub.status.idle": "2024-07-25T08:08:57.304521Z",
     "shell.execute_reply": "2024-07-25T08:08:57.303831Z",
     "shell.execute_reply.started": "2024-07-25T08:04:00.239014Z"
    },
    "papermill": {
     "duration": 0.081819,
     "end_time": "2024-07-25T08:08:57.304709",
     "exception": false,
     "start_time": "2024-07-25T08:08:57.222890",
     "status": "completed"
    },
    "tags": []
   },
   "outputs": [
    {
     "data": {
      "text/plain": [
       "0.25583174881891707"
      ]
     },
     "execution_count": 21,
     "metadata": {},
     "output_type": "execute_result"
    }
   ],
   "source": [
    "# Normalise Data\n",
    "from sklearn.preprocessing import MinMaxScaler\n",
    "scaler = MinMaxScaler()\n",
    "X_train=scaler.fit_transform(X_train)\n",
    "X_test=scaler.fit_transform(X_test)\n",
    "\n",
    "X_train.mean()"
   ]
  },
  {
   "cell_type": "code",
   "execution_count": 22,
   "id": "c4792169",
   "metadata": {
    "execution": {
     "iopub.execute_input": "2024-07-25T08:08:57.423489Z",
     "iopub.status.busy": "2024-07-25T08:08:57.422151Z",
     "iopub.status.idle": "2024-07-25T08:08:57.425142Z",
     "shell.execute_reply": "2024-07-25T08:08:57.425748Z",
     "shell.execute_reply.started": "2024-07-25T08:04:00.256866Z"
    },
    "papermill": {
     "duration": 0.064957,
     "end_time": "2024-07-25T08:08:57.425991",
     "exception": false,
     "start_time": "2024-07-25T08:08:57.361034",
     "status": "completed"
    },
    "tags": []
   },
   "outputs": [],
   "source": [
    "# Evaluation Metrics\n",
    "from sklearn import metrics\n",
    "def print_error(X_test, y_test, model_name):\n",
    "  prediction = model_name.predict(X_test)\n",
    "  print('Mean Absolute Error:', metrics.mean_absolute_error(y_test, prediction))\n",
    "  print('Mean Squared Error:', metrics.mean_squared_error(y_test, prediction))\n",
    "  print('Root Mean Squared Error:', np.sqrt(metrics.mean_squared_error(y_test, prediction)))\n"
   ]
  },
  {
   "cell_type": "code",
   "execution_count": 23,
   "id": "8efa78ae",
   "metadata": {
    "execution": {
     "iopub.execute_input": "2024-07-25T08:08:57.573695Z",
     "iopub.status.busy": "2024-07-25T08:08:57.572322Z",
     "iopub.status.idle": "2024-07-25T08:08:57.799421Z",
     "shell.execute_reply": "2024-07-25T08:08:57.801130Z",
     "shell.execute_reply.started": "2024-07-25T08:04:00.264389Z"
    },
    "papermill": {
     "duration": 0.309266,
     "end_time": "2024-07-25T08:08:57.801749",
     "exception": false,
     "start_time": "2024-07-25T08:08:57.492483",
     "status": "completed"
    },
    "tags": []
   },
   "outputs": [
    {
     "name": "stdout",
     "output_type": "stream",
     "text": [
      "Mean Absolute Error: 5288.146964612727\n",
      "Mean Squared Error: 10881576714.292877\n",
      "Root Mean Squared Error: 104314.7962385628\n"
     ]
    }
   ],
   "source": [
    "# Linear Regression\n",
    "from sklearn import linear_model\n",
    "linear_regression = linear_model.LinearRegression()\n",
    "linear_regression.fit(X_train, y_train)\n",
    "print_error(X_test,y_test, linear_regression)"
   ]
  },
  {
   "cell_type": "code",
   "execution_count": 24,
   "id": "51d15434",
   "metadata": {
    "execution": {
     "iopub.execute_input": "2024-07-25T08:08:57.988214Z",
     "iopub.status.busy": "2024-07-25T08:08:57.986776Z",
     "iopub.status.idle": "2024-07-25T08:09:07.217787Z",
     "shell.execute_reply": "2024-07-25T08:09:07.216855Z",
     "shell.execute_reply.started": "2024-07-25T08:04:00.293677Z"
    },
    "papermill": {
     "duration": 9.30127,
     "end_time": "2024-07-25T08:09:07.217994",
     "exception": false,
     "start_time": "2024-07-25T08:08:57.916724",
     "status": "completed"
    },
    "tags": []
   },
   "outputs": [
    {
     "name": "stdout",
     "output_type": "stream",
     "text": [
      "Mean Absolute Error: 3478.055764043397\n",
      "Mean Squared Error: 10901273757.728346\n",
      "Root Mean Squared Error: 104409.16510406711\n"
     ]
    }
   ],
   "source": [
    "# Support Vector Regressor\n",
    "from sklearn.svm import SVR\n",
    "supportvector_regressor = SVR()\n",
    "supportvector_regressor.fit(X_train,y_train)\n",
    "print_error(X_test,y_test, supportvector_regressor)"
   ]
  },
  {
   "cell_type": "code",
   "execution_count": 25,
   "id": "c3433c40",
   "metadata": {
    "execution": {
     "iopub.execute_input": "2024-07-25T08:09:07.338522Z",
     "iopub.status.busy": "2024-07-25T08:09:07.337573Z",
     "iopub.status.idle": "2024-07-25T08:09:07.659151Z",
     "shell.execute_reply": "2024-07-25T08:09:07.659953Z",
     "shell.execute_reply.started": "2024-07-25T08:04:09.285912Z"
    },
    "papermill": {
     "duration": 0.386108,
     "end_time": "2024-07-25T08:09:07.660205",
     "exception": false,
     "start_time": "2024-07-25T08:09:07.274097",
     "status": "completed"
    },
    "tags": []
   },
   "outputs": [
    {
     "name": "stdout",
     "output_type": "stream",
     "text": [
      "Mean Absolute Error: 3810.281079234973\n",
      "Mean Squared Error: 10539357166.888319\n",
      "Root Mean Squared Error: 102661.37134720304\n"
     ]
    }
   ],
   "source": [
    "# Decision Tree Regressor\n",
    "from sklearn.tree import DecisionTreeRegressor\n",
    "decision_tree = DecisionTreeRegressor()\n",
    "decision_tree.fit(X_train, y_train)\n",
    "print_error(X_test,y_test, decision_tree)"
   ]
  },
  {
   "cell_type": "code",
   "execution_count": 26,
   "id": "5e973f35",
   "metadata": {
    "execution": {
     "iopub.execute_input": "2024-07-25T08:09:07.778669Z",
     "iopub.status.busy": "2024-07-25T08:09:07.777730Z",
     "iopub.status.idle": "2024-07-25T08:09:23.826320Z",
     "shell.execute_reply": "2024-07-25T08:09:23.827042Z",
     "shell.execute_reply.started": "2024-07-25T08:04:09.449995Z"
    },
    "papermill": {
     "duration": 16.112367,
     "end_time": "2024-07-25T08:09:23.827262",
     "exception": false,
     "start_time": "2024-07-25T08:09:07.714895",
     "status": "completed"
    },
    "tags": []
   },
   "outputs": [
    {
     "name": "stdout",
     "output_type": "stream",
     "text": [
      "Mean Absolute Error: 4903.729272255531\n",
      "Mean Squared Error: 10158691842.292942\n",
      "Root Mean Squared Error: 100790.33605605719\n"
     ]
    }
   ],
   "source": [
    "# Random Forest Regressor\n",
    "from sklearn.ensemble import RandomForestRegressor\n",
    "n_estimators = 200\n",
    "max_depth = 25\n",
    "min_samples_split=15\n",
    "min_samples_leaf=2\n",
    "random_forest = RandomForestRegressor(n_estimators = n_estimators, max_depth = max_depth, min_samples_split=min_samples_split)\n",
    "random_forest.fit(X_train,y_train)\n",
    "print_error(X_test,y_test, random_forest)"
   ]
  },
  {
   "cell_type": "code",
   "execution_count": 27,
   "id": "c94a91f8",
   "metadata": {
    "execution": {
     "iopub.execute_input": "2024-07-25T08:09:23.943032Z",
     "iopub.status.busy": "2024-07-25T08:09:23.942033Z",
     "iopub.status.idle": "2024-07-25T08:09:30.814124Z",
     "shell.execute_reply": "2024-07-25T08:09:30.813184Z",
     "shell.execute_reply.started": "2024-07-25T08:04:25.045547Z"
    },
    "papermill": {
     "duration": 6.932142,
     "end_time": "2024-07-25T08:09:30.814319",
     "exception": false,
     "start_time": "2024-07-25T08:09:23.882177",
     "status": "completed"
    },
    "tags": []
   },
   "outputs": [],
   "source": [
    "# Artificial Neural Network\n",
    "from tensorflow import keras\n",
    "from keras.layers import Dense"
   ]
  },
  {
   "cell_type": "code",
   "execution_count": 28,
   "id": "ef770187",
   "metadata": {
    "execution": {
     "iopub.execute_input": "2024-07-25T08:09:30.932075Z",
     "iopub.status.busy": "2024-07-25T08:09:30.931108Z",
     "iopub.status.idle": "2024-07-25T08:10:38.411479Z",
     "shell.execute_reply": "2024-07-25T08:10:38.410812Z",
     "shell.execute_reply.started": "2024-07-25T08:04:25.055082Z"
    },
    "papermill": {
     "duration": 67.543431,
     "end_time": "2024-07-25T08:10:38.411713",
     "exception": false,
     "start_time": "2024-07-25T08:09:30.868282",
     "status": "completed"
    },
    "tags": []
   },
   "outputs": [
    {
     "name": "stderr",
     "output_type": "stream",
     "text": [
      "\n",
      "User settings:\n",
      "\n",
      "   KMP_AFFINITY=granularity=fine,noverbose,compact,1,0\n",
      "   KMP_BLOCKTIME=0\n",
      "   KMP_DUPLICATE_LIB_OK=True\n",
      "   KMP_INIT_AT_FORK=FALSE\n",
      "   KMP_SETTINGS=1\n",
      "   KMP_WARNINGS=0\n",
      "\n",
      "Effective settings:\n",
      "\n",
      "   KMP_ABORT_DELAY=0\n",
      "   KMP_ADAPTIVE_LOCK_PROPS='1,1024'\n",
      "   KMP_ALIGN_ALLOC=64\n",
      "   KMP_ALL_THREADPRIVATE=128\n",
      "   KMP_ATOMIC_MODE=2\n",
      "   KMP_BLOCKTIME=0\n",
      "   KMP_CPUINFO_FILE: value is not defined\n",
      "   KMP_DETERMINISTIC_REDUCTION=false\n",
      "   KMP_DEVICE_THREAD_LIMIT=2147483647\n",
      "   KMP_DISP_NUM_BUFFERS=7\n",
      "   KMP_DUPLICATE_LIB_OK=true\n",
      "   KMP_ENABLE_TASK_THROTTLING=true\n",
      "   KMP_FORCE_REDUCTION: value is not defined\n",
      "   KMP_FOREIGN_THREADS_THREADPRIVATE=true\n",
      "   KMP_FORKJOIN_BARRIER='2,2'\n",
      "   KMP_FORKJOIN_BARRIER_PATTERN='hyper,hyper'\n",
      "   KMP_GTID_MODE=3\n",
      "   KMP_HANDLE_SIGNALS=false\n",
      "   KMP_HOT_TEAMS_MAX_LEVEL=1\n",
      "   KMP_HOT_TEAMS_MODE=0\n",
      "   KMP_INIT_AT_FORK=true\n",
      "   KMP_LIBRARY=throughput\n",
      "   KMP_LOCK_KIND=queuing\n",
      "   KMP_MALLOC_POOL_INCR=1M\n",
      "   KMP_NUM_LOCKS_IN_BLOCK=1\n",
      "   KMP_PLAIN_BARRIER='2,2'\n",
      "   KMP_PLAIN_BARRIER_PATTERN='hyper,hyper'\n",
      "   KMP_REDUCTION_BARRIER='1,1'\n",
      "   KMP_REDUCTION_BARRIER_PATTERN='hyper,hyper'\n",
      "   KMP_SCHEDULE='static,balanced;guided,iterative'\n",
      "   KMP_SETTINGS=true\n",
      "   KMP_SPIN_BACKOFF_PARAMS='4096,100'\n",
      "   KMP_STACKOFFSET=64\n",
      "   KMP_STACKPAD=0\n",
      "   KMP_STACKSIZE=8M\n",
      "   KMP_STORAGE_MAP=false\n",
      "   KMP_TASKING=2\n",
      "   KMP_TASKLOOP_MIN_TASKS=0\n",
      "   KMP_TASK_STEALING_CONSTRAINT=1\n",
      "   KMP_TEAMS_THREAD_LIMIT=4\n",
      "   KMP_TOPOLOGY_METHOD=all\n",
      "   KMP_USE_YIELD=1\n",
      "   KMP_VERSION=false\n",
      "   KMP_WARNINGS=false\n",
      "   OMP_AFFINITY_FORMAT='OMP: pid %P tid %i thread %n bound to OS proc set {%A}'\n",
      "   OMP_ALLOCATOR=omp_default_mem_alloc\n",
      "   OMP_CANCELLATION=false\n",
      "   OMP_DEFAULT_DEVICE=0\n",
      "   OMP_DISPLAY_AFFINITY=false\n",
      "   OMP_DISPLAY_ENV=false\n",
      "   OMP_DYNAMIC=false\n",
      "   OMP_MAX_ACTIVE_LEVELS=1\n",
      "   OMP_MAX_TASK_PRIORITY=0\n",
      "   OMP_NESTED: deprecated; max-active-levels-var=1\n",
      "   OMP_NUM_THREADS: value is not defined\n",
      "   OMP_PLACES: value is not defined\n",
      "   OMP_PROC_BIND='intel'\n",
      "   OMP_SCHEDULE='static'\n",
      "   OMP_STACKSIZE=8M\n",
      "   OMP_TARGET_OFFLOAD=DEFAULT\n",
      "   OMP_THREAD_LIMIT=2147483647\n",
      "   OMP_WAIT_POLICY=PASSIVE\n",
      "   KMP_AFFINITY='noverbose,warnings,respect,granularity=fine,compact,1,0'\n",
      "\n"
     ]
    },
    {
     "name": "stdout",
     "output_type": "stream",
     "text": [
      "Epoch 1/100\n",
      "366/366 [==============================] - 1s 2ms/step - loss: 767617728.0000 - mean_squared_error: 767617728.0000\n",
      "Epoch 2/100\n",
      "366/366 [==============================] - 1s 2ms/step - loss: 767603328.0000 - mean_squared_error: 767603328.0000\n",
      "Epoch 3/100\n",
      "366/366 [==============================] - 1s 2ms/step - loss: 767573632.0000 - mean_squared_error: 767573632.0000\n",
      "Epoch 4/100\n",
      "366/366 [==============================] - 1s 2ms/step - loss: 767523072.0000 - mean_squared_error: 767523072.0000\n",
      "Epoch 5/100\n",
      "366/366 [==============================] - 1s 2ms/step - loss: 767447104.0000 - mean_squared_error: 767447104.0000\n",
      "Epoch 6/100\n",
      "366/366 [==============================] - 1s 2ms/step - loss: 767350400.0000 - mean_squared_error: 767350400.0000\n",
      "Epoch 7/100\n",
      "366/366 [==============================] - 1s 2ms/step - loss: 767227264.0000 - mean_squared_error: 767227264.0000\n",
      "Epoch 8/100\n",
      "366/366 [==============================] - 1s 2ms/step - loss: 767071424.0000 - mean_squared_error: 767071424.0000\n",
      "Epoch 9/100\n",
      "366/366 [==============================] - 1s 2ms/step - loss: 766895552.0000 - mean_squared_error: 766895552.0000\n",
      "Epoch 10/100\n",
      "366/366 [==============================] - 1s 2ms/step - loss: 766717504.0000 - mean_squared_error: 766717504.0000\n",
      "Epoch 11/100\n",
      "366/366 [==============================] - 1s 2ms/step - loss: 766530816.0000 - mean_squared_error: 766530816.0000\n",
      "Epoch 12/100\n",
      "366/366 [==============================] - 1s 2ms/step - loss: 766338816.0000 - mean_squared_error: 766338816.0000\n",
      "Epoch 13/100\n",
      "366/366 [==============================] - 1s 2ms/step - loss: 766140928.0000 - mean_squared_error: 766140928.0000\n",
      "Epoch 14/100\n",
      "366/366 [==============================] - 1s 2ms/step - loss: 765948032.0000 - mean_squared_error: 765948032.0000\n",
      "Epoch 15/100\n",
      "366/366 [==============================] - 1s 2ms/step - loss: 765770496.0000 - mean_squared_error: 765770496.0000\n",
      "Epoch 16/100\n",
      "366/366 [==============================] - 1s 2ms/step - loss: 765591424.0000 - mean_squared_error: 765591424.0000\n",
      "Epoch 17/100\n",
      "366/366 [==============================] - 1s 2ms/step - loss: 765424768.0000 - mean_squared_error: 765424768.0000\n",
      "Epoch 18/100\n",
      "366/366 [==============================] - 1s 2ms/step - loss: 765268672.0000 - mean_squared_error: 765268672.0000\n",
      "Epoch 19/100\n",
      "366/366 [==============================] - 1s 2ms/step - loss: 765125184.0000 - mean_squared_error: 765125184.0000\n",
      "Epoch 20/100\n",
      "366/366 [==============================] - 1s 2ms/step - loss: 764992384.0000 - mean_squared_error: 764992384.0000\n",
      "Epoch 21/100\n",
      "366/366 [==============================] - 1s 1ms/step - loss: 764871424.0000 - mean_squared_error: 764871424.0000\n",
      "Epoch 22/100\n",
      "366/366 [==============================] - 1s 2ms/step - loss: 764762432.0000 - mean_squared_error: 764762432.0000\n",
      "Epoch 23/100\n",
      "366/366 [==============================] - 1s 2ms/step - loss: 764664448.0000 - mean_squared_error: 764664448.0000\n",
      "Epoch 24/100\n",
      "366/366 [==============================] - 1s 2ms/step - loss: 764574464.0000 - mean_squared_error: 764574464.0000\n",
      "Epoch 25/100\n",
      "366/366 [==============================] - 1s 2ms/step - loss: 764493568.0000 - mean_squared_error: 764493568.0000\n",
      "Epoch 26/100\n",
      "366/366 [==============================] - 1s 2ms/step - loss: 764427904.0000 - mean_squared_error: 764427904.0000\n",
      "Epoch 27/100\n",
      "366/366 [==============================] - 1s 2ms/step - loss: 764363392.0000 - mean_squared_error: 764363392.0000\n",
      "Epoch 28/100\n",
      "366/366 [==============================] - 1s 2ms/step - loss: 764306752.0000 - mean_squared_error: 764306752.0000\n",
      "Epoch 29/100\n",
      "366/366 [==============================] - 1s 2ms/step - loss: 764259200.0000 - mean_squared_error: 764259200.0000\n",
      "Epoch 30/100\n",
      "366/366 [==============================] - 1s 2ms/step - loss: 764216128.0000 - mean_squared_error: 764216128.0000\n",
      "Epoch 31/100\n",
      "366/366 [==============================] - 1s 2ms/step - loss: 764173888.0000 - mean_squared_error: 764173888.0000\n",
      "Epoch 32/100\n",
      "366/366 [==============================] - 1s 2ms/step - loss: 764137344.0000 - mean_squared_error: 764137344.0000\n",
      "Epoch 33/100\n",
      "366/366 [==============================] - 1s 2ms/step - loss: 764102208.0000 - mean_squared_error: 764102208.0000\n",
      "Epoch 34/100\n",
      "366/366 [==============================] - 1s 2ms/step - loss: 764070272.0000 - mean_squared_error: 764070272.0000\n",
      "Epoch 35/100\n",
      "366/366 [==============================] - 1s 2ms/step - loss: 764041408.0000 - mean_squared_error: 764041408.0000\n",
      "Epoch 36/100\n",
      "366/366 [==============================] - 1s 2ms/step - loss: 764014016.0000 - mean_squared_error: 764014016.0000\n",
      "Epoch 37/100\n",
      "366/366 [==============================] - 1s 2ms/step - loss: 763990080.0000 - mean_squared_error: 763990080.0000\n",
      "Epoch 38/100\n",
      "366/366 [==============================] - 1s 2ms/step - loss: 763963776.0000 - mean_squared_error: 763963776.0000\n",
      "Epoch 39/100\n",
      "366/366 [==============================] - 1s 2ms/step - loss: 763947008.0000 - mean_squared_error: 763947008.0000\n",
      "Epoch 40/100\n",
      "366/366 [==============================] - 1s 2ms/step - loss: 763917312.0000 - mean_squared_error: 763917312.0000\n",
      "Epoch 41/100\n",
      "366/366 [==============================] - 1s 2ms/step - loss: 763894080.0000 - mean_squared_error: 763894080.0000\n",
      "Epoch 42/100\n",
      "366/366 [==============================] - 1s 2ms/step - loss: 763872896.0000 - mean_squared_error: 763872896.0000\n",
      "Epoch 43/100\n",
      "366/366 [==============================] - 1s 2ms/step - loss: 763859712.0000 - mean_squared_error: 763859712.0000\n",
      "Epoch 44/100\n",
      "366/366 [==============================] - 1s 2ms/step - loss: 763831168.0000 - mean_squared_error: 763831168.0000\n",
      "Epoch 45/100\n",
      "366/366 [==============================] - 1s 3ms/step - loss: 763814400.0000 - mean_squared_error: 763814400.0000\n",
      "Epoch 46/100\n",
      "366/366 [==============================] - 1s 3ms/step - loss: 763798464.0000 - mean_squared_error: 763798464.0000\n",
      "Epoch 47/100\n",
      "366/366 [==============================] - 1s 2ms/step - loss: 763767360.0000 - mean_squared_error: 763767360.0000\n",
      "Epoch 48/100\n",
      "366/366 [==============================] - 1s 2ms/step - loss: 763756288.0000 - mean_squared_error: 763756288.0000\n",
      "Epoch 49/100\n",
      "366/366 [==============================] - 1s 2ms/step - loss: 763739264.0000 - mean_squared_error: 763739264.0000\n",
      "Epoch 50/100\n",
      "366/366 [==============================] - 1s 2ms/step - loss: 763717440.0000 - mean_squared_error: 763717440.0000\n",
      "Epoch 51/100\n",
      "366/366 [==============================] - 1s 2ms/step - loss: 763696448.0000 - mean_squared_error: 763696448.0000\n",
      "Epoch 52/100\n",
      "366/366 [==============================] - 1s 2ms/step - loss: 763676288.0000 - mean_squared_error: 763676288.0000\n",
      "Epoch 53/100\n",
      "366/366 [==============================] - 1s 2ms/step - loss: 763656640.0000 - mean_squared_error: 763656640.0000\n",
      "Epoch 54/100\n",
      "366/366 [==============================] - 1s 2ms/step - loss: 763637184.0000 - mean_squared_error: 763637184.0000\n",
      "Epoch 55/100\n",
      "366/366 [==============================] - 1s 2ms/step - loss: 763625152.0000 - mean_squared_error: 763625152.0000\n",
      "Epoch 56/100\n",
      "366/366 [==============================] - 1s 2ms/step - loss: 763597120.0000 - mean_squared_error: 763597120.0000\n",
      "Epoch 57/100\n",
      "366/366 [==============================] - 1s 2ms/step - loss: 763579392.0000 - mean_squared_error: 763579392.0000\n",
      "Epoch 58/100\n",
      "366/366 [==============================] - 1s 2ms/step - loss: 763557312.0000 - mean_squared_error: 763557312.0000\n",
      "Epoch 59/100\n",
      "366/366 [==============================] - 1s 2ms/step - loss: 763538496.0000 - mean_squared_error: 763538496.0000\n",
      "Epoch 60/100\n",
      "366/366 [==============================] - 1s 2ms/step - loss: 763518784.0000 - mean_squared_error: 763518784.0000\n",
      "Epoch 61/100\n",
      "366/366 [==============================] - 1s 2ms/step - loss: 763507136.0000 - mean_squared_error: 763507136.0000\n",
      "Epoch 62/100\n",
      "366/366 [==============================] - 1s 2ms/step - loss: 763490112.0000 - mean_squared_error: 763490112.0000\n",
      "Epoch 63/100\n",
      "366/366 [==============================] - 1s 2ms/step - loss: 763456256.0000 - mean_squared_error: 763456256.0000\n",
      "Epoch 64/100\n",
      "366/366 [==============================] - 1s 2ms/step - loss: 763441792.0000 - mean_squared_error: 763441792.0000\n",
      "Epoch 65/100\n",
      "366/366 [==============================] - 1s 2ms/step - loss: 763428096.0000 - mean_squared_error: 763428096.0000\n",
      "Epoch 66/100\n",
      "366/366 [==============================] - 1s 2ms/step - loss: 763399040.0000 - mean_squared_error: 763399040.0000\n",
      "Epoch 67/100\n",
      "366/366 [==============================] - 1s 1ms/step - loss: 763383296.0000 - mean_squared_error: 763383296.0000\n",
      "Epoch 68/100\n",
      "366/366 [==============================] - 1s 2ms/step - loss: 763360704.0000 - mean_squared_error: 763360704.0000\n",
      "Epoch 69/100\n",
      "366/366 [==============================] - 1s 2ms/step - loss: 763345536.0000 - mean_squared_error: 763345536.0000\n",
      "Epoch 70/100\n",
      "366/366 [==============================] - 1s 2ms/step - loss: 763322944.0000 - mean_squared_error: 763322944.0000\n",
      "Epoch 71/100\n",
      "366/366 [==============================] - 1s 2ms/step - loss: 763293760.0000 - mean_squared_error: 763293760.0000\n",
      "Epoch 72/100\n",
      "366/366 [==============================] - 1s 2ms/step - loss: 763289728.0000 - mean_squared_error: 763289728.0000\n",
      "Epoch 73/100\n",
      "366/366 [==============================] - 1s 2ms/step - loss: 763263936.0000 - mean_squared_error: 763263936.0000\n",
      "Epoch 74/100\n",
      "366/366 [==============================] - 1s 2ms/step - loss: 763242816.0000 - mean_squared_error: 763242816.0000\n",
      "Epoch 75/100\n",
      "366/366 [==============================] - 1s 2ms/step - loss: 763221120.0000 - mean_squared_error: 763221120.0000\n",
      "Epoch 76/100\n",
      "366/366 [==============================] - 1s 2ms/step - loss: 763197312.0000 - mean_squared_error: 763197312.0000\n",
      "Epoch 77/100\n",
      "366/366 [==============================] - 1s 2ms/step - loss: 763177600.0000 - mean_squared_error: 763177600.0000\n",
      "Epoch 78/100\n",
      "366/366 [==============================] - 1s 2ms/step - loss: 763166848.0000 - mean_squared_error: 763166848.0000\n",
      "Epoch 79/100\n",
      "366/366 [==============================] - 1s 2ms/step - loss: 763138816.0000 - mean_squared_error: 763138816.0000\n",
      "Epoch 80/100\n",
      "366/366 [==============================] - 1s 2ms/step - loss: 763115072.0000 - mean_squared_error: 763115072.0000\n",
      "Epoch 81/100\n",
      "366/366 [==============================] - 1s 2ms/step - loss: 763103424.0000 - mean_squared_error: 763103424.0000\n",
      "Epoch 82/100\n",
      "366/366 [==============================] - 1s 2ms/step - loss: 763082240.0000 - mean_squared_error: 763082240.0000\n",
      "Epoch 83/100\n",
      "366/366 [==============================] - 1s 2ms/step - loss: 763063616.0000 - mean_squared_error: 763063616.0000\n",
      "Epoch 84/100\n",
      "366/366 [==============================] - 1s 2ms/step - loss: 763043264.0000 - mean_squared_error: 763043264.0000\n",
      "Epoch 85/100\n",
      "366/366 [==============================] - 1s 2ms/step - loss: 763021568.0000 - mean_squared_error: 763021568.0000\n",
      "Epoch 86/100\n",
      "366/366 [==============================] - 1s 2ms/step - loss: 762998656.0000 - mean_squared_error: 762998656.0000\n",
      "Epoch 87/100\n",
      "366/366 [==============================] - 1s 2ms/step - loss: 762979712.0000 - mean_squared_error: 762979712.0000\n",
      "Epoch 88/100\n",
      "366/366 [==============================] - 1s 2ms/step - loss: 762964096.0000 - mean_squared_error: 762964096.0000\n",
      "Epoch 89/100\n",
      "366/366 [==============================] - 1s 2ms/step - loss: 762943680.0000 - mean_squared_error: 762943680.0000\n",
      "Epoch 90/100\n",
      "366/366 [==============================] - 1s 2ms/step - loss: 762923328.0000 - mean_squared_error: 762923328.0000\n",
      "Epoch 91/100\n",
      "366/366 [==============================] - 1s 2ms/step - loss: 762901056.0000 - mean_squared_error: 762901056.0000\n",
      "Epoch 92/100\n",
      "366/366 [==============================] - 1s 2ms/step - loss: 762885056.0000 - mean_squared_error: 762885056.0000\n",
      "Epoch 93/100\n",
      "366/366 [==============================] - 1s 2ms/step - loss: 762866688.0000 - mean_squared_error: 762866688.0000\n",
      "Epoch 94/100\n",
      "366/366 [==============================] - 1s 2ms/step - loss: 762848192.0000 - mean_squared_error: 762848192.0000\n",
      "Epoch 95/100\n",
      "366/366 [==============================] - 1s 2ms/step - loss: 762837632.0000 - mean_squared_error: 762837632.0000\n",
      "Epoch 96/100\n",
      "366/366 [==============================] - 1s 2ms/step - loss: 762816512.0000 - mean_squared_error: 762816512.0000\n",
      "Epoch 97/100\n",
      "366/366 [==============================] - 1s 2ms/step - loss: 762793152.0000 - mean_squared_error: 762793152.0000\n",
      "Epoch 98/100\n",
      "366/366 [==============================] - 1s 2ms/step - loss: 762777984.0000 - mean_squared_error: 762777984.0000\n",
      "Epoch 99/100\n",
      "366/366 [==============================] - 1s 2ms/step - loss: 762755712.0000 - mean_squared_error: 762755712.0000\n",
      "Epoch 100/100\n",
      "366/366 [==============================] - 1s 2ms/step - loss: 762735488.0000 - mean_squared_error: 762735488.0000\n",
      "Mean Absolute Error: 5053.345769614795\n",
      "Mean Squared Error: 10883775812.04405\n",
      "Root Mean Squared Error: 104325.33638596164\n"
     ]
    }
   ],
   "source": [
    "ann = keras.models.Sequential([\n",
    "                                Dense(6, activation=\"relu\",\n",
    "                                input_shape=X_train.shape[1:]),\n",
    "                                Dense(6,activation=\"relu\"),\n",
    "                                Dense(1)\n",
    "                                ])\n",
    "\n",
    "optimizer=keras.optimizers.Adam()\n",
    "loss=keras.losses.mean_squared_error\n",
    "ann.compile(optimizer=optimizer,loss=loss,metrics=[\"mean_squared_error\"])\n",
    "\n",
    "history=ann.fit(X_train,y_train,epochs=100)\n",
    "\n",
    "print_error(X_test,y_test,ann)"
   ]
  },
  {
   "cell_type": "code",
   "execution_count": 29,
   "id": "a1e81562",
   "metadata": {
    "execution": {
     "iopub.execute_input": "2024-07-25T08:10:39.653143Z",
     "iopub.status.busy": "2024-07-25T08:10:39.651865Z",
     "iopub.status.idle": "2024-07-25T08:10:39.684922Z",
     "shell.execute_reply": "2024-07-25T08:10:39.684096Z",
     "shell.execute_reply.started": "2024-07-25T08:05:14.744022Z"
    },
    "papermill": {
     "duration": 0.657268,
     "end_time": "2024-07-25T08:10:39.685108",
     "exception": false,
     "start_time": "2024-07-25T08:10:39.027840",
     "status": "completed"
    },
    "tags": []
   },
   "outputs": [],
   "source": [
    "#Saving Scikitlearn models\n",
    "import joblib\n",
    "joblib.dump(supportvector_regressor, \"SVR_youtubeadview.pkl\")\n",
    "# Saving Keras Artificial Neural Network model\n",
    "ann.save(\"ann_youtubeadview.h5\")"
   ]
  },
  {
   "cell_type": "code",
   "execution_count": 30,
   "id": "227e167f",
   "metadata": {
    "execution": {
     "iopub.execute_input": "2024-07-25T08:10:40.908189Z",
     "iopub.status.busy": "2024-07-25T08:10:40.907228Z",
     "iopub.status.idle": "2024-07-25T08:10:40.951704Z",
     "shell.execute_reply": "2024-07-25T08:10:40.950957Z",
     "shell.execute_reply.started": "2024-07-25T08:05:14.773302Z"
    },
    "papermill": {
     "duration": 0.660673,
     "end_time": "2024-07-25T08:10:40.951915",
     "exception": false,
     "start_time": "2024-07-25T08:10:40.291242",
     "status": "completed"
    },
    "tags": []
   },
   "outputs": [],
   "source": [
    "dft = pd.read_csv(\"../input/youtube-adview-dataset/test.csv\")"
   ]
  },
  {
   "cell_type": "code",
   "execution_count": 31,
   "id": "fc1beabc",
   "metadata": {
    "execution": {
     "iopub.execute_input": "2024-07-25T08:10:42.198255Z",
     "iopub.status.busy": "2024-07-25T08:10:42.197131Z",
     "iopub.status.idle": "2024-07-25T08:10:42.201213Z",
     "shell.execute_reply": "2024-07-25T08:10:42.201818Z",
     "shell.execute_reply.started": "2024-07-25T08:05:14.805766Z"
    },
    "papermill": {
     "duration": 0.636236,
     "end_time": "2024-07-25T08:10:42.202064",
     "exception": false,
     "start_time": "2024-07-25T08:10:41.565828",
     "status": "completed"
    },
    "tags": []
   },
   "outputs": [
    {
     "data": {
      "text/html": [
       "<div>\n",
       "<style scoped>\n",
       "    .dataframe tbody tr th:only-of-type {\n",
       "        vertical-align: middle;\n",
       "    }\n",
       "\n",
       "    .dataframe tbody tr th {\n",
       "        vertical-align: top;\n",
       "    }\n",
       "\n",
       "    .dataframe thead th {\n",
       "        text-align: right;\n",
       "    }\n",
       "</style>\n",
       "<table border=\"1\" class=\"dataframe\">\n",
       "  <thead>\n",
       "    <tr style=\"text-align: right;\">\n",
       "      <th></th>\n",
       "      <th>vidid</th>\n",
       "      <th>views</th>\n",
       "      <th>likes</th>\n",
       "      <th>dislikes</th>\n",
       "      <th>comment</th>\n",
       "      <th>published</th>\n",
       "      <th>duration</th>\n",
       "      <th>category</th>\n",
       "    </tr>\n",
       "  </thead>\n",
       "  <tbody>\n",
       "    <tr>\n",
       "      <th>0</th>\n",
       "      <td>VID_1054</td>\n",
       "      <td>440238</td>\n",
       "      <td>6153</td>\n",
       "      <td>218</td>\n",
       "      <td>1377</td>\n",
       "      <td>2017-02-18</td>\n",
       "      <td>PT7M29S</td>\n",
       "      <td>B</td>\n",
       "    </tr>\n",
       "    <tr>\n",
       "      <th>1</th>\n",
       "      <td>VID_18629</td>\n",
       "      <td>1040132</td>\n",
       "      <td>8171</td>\n",
       "      <td>340</td>\n",
       "      <td>1047</td>\n",
       "      <td>2016-06-28</td>\n",
       "      <td>PT6M29S</td>\n",
       "      <td>F</td>\n",
       "    </tr>\n",
       "    <tr>\n",
       "      <th>2</th>\n",
       "      <td>VID_13967</td>\n",
       "      <td>28534</td>\n",
       "      <td>31</td>\n",
       "      <td>11</td>\n",
       "      <td>1</td>\n",
       "      <td>2014-03-10</td>\n",
       "      <td>PT37M54S</td>\n",
       "      <td>D</td>\n",
       "    </tr>\n",
       "    <tr>\n",
       "      <th>3</th>\n",
       "      <td>VID_19442</td>\n",
       "      <td>1316715</td>\n",
       "      <td>2284</td>\n",
       "      <td>250</td>\n",
       "      <td>274</td>\n",
       "      <td>2010-06-05</td>\n",
       "      <td>PT9M55S</td>\n",
       "      <td>G</td>\n",
       "    </tr>\n",
       "    <tr>\n",
       "      <th>4</th>\n",
       "      <td>VID_770</td>\n",
       "      <td>1893173</td>\n",
       "      <td>2519</td>\n",
       "      <td>225</td>\n",
       "      <td>116</td>\n",
       "      <td>2016-09-03</td>\n",
       "      <td>PT3M8S</td>\n",
       "      <td>B</td>\n",
       "    </tr>\n",
       "  </tbody>\n",
       "</table>\n",
       "</div>"
      ],
      "text/plain": [
       "       vidid    views likes dislikes comment   published  duration category\n",
       "0   VID_1054   440238  6153      218    1377  2017-02-18   PT7M29S        B\n",
       "1  VID_18629  1040132  8171      340    1047  2016-06-28   PT6M29S        F\n",
       "2  VID_13967    28534    31       11       1  2014-03-10  PT37M54S        D\n",
       "3  VID_19442  1316715  2284      250     274  2010-06-05   PT9M55S        G\n",
       "4    VID_770  1893173  2519      225     116  2016-09-03    PT3M8S        B"
      ]
     },
     "execution_count": 31,
     "metadata": {},
     "output_type": "execute_result"
    }
   ],
   "source": [
    "dft.head()"
   ]
  },
  {
   "cell_type": "code",
   "execution_count": 32,
   "id": "30017fc3",
   "metadata": {
    "execution": {
     "iopub.execute_input": "2024-07-25T08:10:43.451802Z",
     "iopub.status.busy": "2024-07-25T08:10:43.450916Z",
     "iopub.status.idle": "2024-07-25T08:10:43.519902Z",
     "shell.execute_reply": "2024-07-25T08:10:43.520570Z",
     "shell.execute_reply.started": "2024-07-25T08:05:14.822328Z"
    },
    "papermill": {
     "duration": 0.699445,
     "end_time": "2024-07-25T08:10:43.520829",
     "exception": false,
     "start_time": "2024-07-25T08:10:42.821384",
     "status": "completed"
    },
    "tags": []
   },
   "outputs": [],
   "source": [
    "from keras.models import load_model\n",
    "model = load_model(\"ann_youtubeadview.h5\")"
   ]
  },
  {
   "cell_type": "code",
   "execution_count": 33,
   "id": "878c7bdf",
   "metadata": {
    "execution": {
     "iopub.execute_input": "2024-07-25T08:10:44.776516Z",
     "iopub.status.busy": "2024-07-25T08:10:44.775227Z",
     "iopub.status.idle": "2024-07-25T08:10:44.794253Z",
     "shell.execute_reply": "2024-07-25T08:10:44.793502Z",
     "shell.execute_reply.started": "2024-07-25T08:05:14.893094Z"
    },
    "papermill": {
     "duration": 0.654049,
     "end_time": "2024-07-25T08:10:44.794489",
     "exception": false,
     "start_time": "2024-07-25T08:10:44.140440",
     "status": "completed"
    },
    "tags": []
   },
   "outputs": [],
   "source": [
    "# Removing character \"F\" present in data\n",
    "dft=dft[dft.views!='F']\n",
    "dft=dft[dft.likes!='F']\n",
    "dft=dft[dft.dislikes!='F']\n",
    "dft=dft[dft.comment!='F']"
   ]
  },
  {
   "cell_type": "code",
   "execution_count": 34,
   "id": "76c096a6",
   "metadata": {
    "execution": {
     "iopub.execute_input": "2024-07-25T08:10:46.062130Z",
     "iopub.status.busy": "2024-07-25T08:10:46.061149Z",
     "iopub.status.idle": "2024-07-25T08:10:46.066104Z",
     "shell.execute_reply": "2024-07-25T08:10:46.065449Z",
     "shell.execute_reply.started": "2024-07-25T08:05:14.913012Z"
    },
    "papermill": {
     "duration": 0.644982,
     "end_time": "2024-07-25T08:10:46.066302",
     "exception": false,
     "start_time": "2024-07-25T08:10:45.421320",
     "status": "completed"
    },
    "tags": []
   },
   "outputs": [
    {
     "data": {
      "text/html": [
       "<div>\n",
       "<style scoped>\n",
       "    .dataframe tbody tr th:only-of-type {\n",
       "        vertical-align: middle;\n",
       "    }\n",
       "\n",
       "    .dataframe tbody tr th {\n",
       "        vertical-align: top;\n",
       "    }\n",
       "\n",
       "    .dataframe thead th {\n",
       "        text-align: right;\n",
       "    }\n",
       "</style>\n",
       "<table border=\"1\" class=\"dataframe\">\n",
       "  <thead>\n",
       "    <tr style=\"text-align: right;\">\n",
       "      <th></th>\n",
       "      <th>vidid</th>\n",
       "      <th>views</th>\n",
       "      <th>likes</th>\n",
       "      <th>dislikes</th>\n",
       "      <th>comment</th>\n",
       "      <th>published</th>\n",
       "      <th>duration</th>\n",
       "      <th>category</th>\n",
       "    </tr>\n",
       "  </thead>\n",
       "  <tbody>\n",
       "    <tr>\n",
       "      <th>0</th>\n",
       "      <td>VID_1054</td>\n",
       "      <td>440238</td>\n",
       "      <td>6153</td>\n",
       "      <td>218</td>\n",
       "      <td>1377</td>\n",
       "      <td>2017-02-18</td>\n",
       "      <td>PT7M29S</td>\n",
       "      <td>B</td>\n",
       "    </tr>\n",
       "    <tr>\n",
       "      <th>1</th>\n",
       "      <td>VID_18629</td>\n",
       "      <td>1040132</td>\n",
       "      <td>8171</td>\n",
       "      <td>340</td>\n",
       "      <td>1047</td>\n",
       "      <td>2016-06-28</td>\n",
       "      <td>PT6M29S</td>\n",
       "      <td>F</td>\n",
       "    </tr>\n",
       "    <tr>\n",
       "      <th>2</th>\n",
       "      <td>VID_13967</td>\n",
       "      <td>28534</td>\n",
       "      <td>31</td>\n",
       "      <td>11</td>\n",
       "      <td>1</td>\n",
       "      <td>2014-03-10</td>\n",
       "      <td>PT37M54S</td>\n",
       "      <td>D</td>\n",
       "    </tr>\n",
       "    <tr>\n",
       "      <th>3</th>\n",
       "      <td>VID_19442</td>\n",
       "      <td>1316715</td>\n",
       "      <td>2284</td>\n",
       "      <td>250</td>\n",
       "      <td>274</td>\n",
       "      <td>2010-06-05</td>\n",
       "      <td>PT9M55S</td>\n",
       "      <td>G</td>\n",
       "    </tr>\n",
       "    <tr>\n",
       "      <th>4</th>\n",
       "      <td>VID_770</td>\n",
       "      <td>1893173</td>\n",
       "      <td>2519</td>\n",
       "      <td>225</td>\n",
       "      <td>116</td>\n",
       "      <td>2016-09-03</td>\n",
       "      <td>PT3M8S</td>\n",
       "      <td>B</td>\n",
       "    </tr>\n",
       "  </tbody>\n",
       "</table>\n",
       "</div>"
      ],
      "text/plain": [
       "       vidid    views likes dislikes comment   published  duration category\n",
       "0   VID_1054   440238  6153      218    1377  2017-02-18   PT7M29S        B\n",
       "1  VID_18629  1040132  8171      340    1047  2016-06-28   PT6M29S        F\n",
       "2  VID_13967    28534    31       11       1  2014-03-10  PT37M54S        D\n",
       "3  VID_19442  1316715  2284      250     274  2010-06-05   PT9M55S        G\n",
       "4    VID_770  1893173  2519      225     116  2016-09-03    PT3M8S        B"
      ]
     },
     "execution_count": 34,
     "metadata": {},
     "output_type": "execute_result"
    }
   ],
   "source": [
    "dft.head()"
   ]
  },
  {
   "cell_type": "code",
   "execution_count": 35,
   "id": "f76085c4",
   "metadata": {
    "execution": {
     "iopub.execute_input": "2024-07-25T08:10:47.326260Z",
     "iopub.status.busy": "2024-07-25T08:10:47.312742Z",
     "iopub.status.idle": "2024-07-25T08:10:47.331092Z",
     "shell.execute_reply": "2024-07-25T08:10:47.330198Z",
     "shell.execute_reply.started": "2024-07-25T08:05:14.930426Z"
    },
    "papermill": {
     "duration": 0.650628,
     "end_time": "2024-07-25T08:10:47.331297",
     "exception": false,
     "start_time": "2024-07-25T08:10:46.680669",
     "status": "completed"
    },
    "tags": []
   },
   "outputs": [
    {
     "data": {
      "text/html": [
       "<div>\n",
       "<style scoped>\n",
       "    .dataframe tbody tr th:only-of-type {\n",
       "        vertical-align: middle;\n",
       "    }\n",
       "\n",
       "    .dataframe tbody tr th {\n",
       "        vertical-align: top;\n",
       "    }\n",
       "\n",
       "    .dataframe thead th {\n",
       "        text-align: right;\n",
       "    }\n",
       "</style>\n",
       "<table border=\"1\" class=\"dataframe\">\n",
       "  <thead>\n",
       "    <tr style=\"text-align: right;\">\n",
       "      <th></th>\n",
       "      <th>vidid</th>\n",
       "      <th>views</th>\n",
       "      <th>likes</th>\n",
       "      <th>dislikes</th>\n",
       "      <th>comment</th>\n",
       "      <th>published</th>\n",
       "      <th>duration</th>\n",
       "      <th>category</th>\n",
       "    </tr>\n",
       "  </thead>\n",
       "  <tbody>\n",
       "    <tr>\n",
       "      <th>0</th>\n",
       "      <td>VID_1054</td>\n",
       "      <td>440238</td>\n",
       "      <td>6153</td>\n",
       "      <td>218</td>\n",
       "      <td>1377</td>\n",
       "      <td>2017-02-18</td>\n",
       "      <td>PT7M29S</td>\n",
       "      <td>2</td>\n",
       "    </tr>\n",
       "    <tr>\n",
       "      <th>1</th>\n",
       "      <td>VID_18629</td>\n",
       "      <td>1040132</td>\n",
       "      <td>8171</td>\n",
       "      <td>340</td>\n",
       "      <td>1047</td>\n",
       "      <td>2016-06-28</td>\n",
       "      <td>PT6M29S</td>\n",
       "      <td>6</td>\n",
       "    </tr>\n",
       "    <tr>\n",
       "      <th>2</th>\n",
       "      <td>VID_13967</td>\n",
       "      <td>28534</td>\n",
       "      <td>31</td>\n",
       "      <td>11</td>\n",
       "      <td>1</td>\n",
       "      <td>2014-03-10</td>\n",
       "      <td>PT37M54S</td>\n",
       "      <td>4</td>\n",
       "    </tr>\n",
       "    <tr>\n",
       "      <th>3</th>\n",
       "      <td>VID_19442</td>\n",
       "      <td>1316715</td>\n",
       "      <td>2284</td>\n",
       "      <td>250</td>\n",
       "      <td>274</td>\n",
       "      <td>2010-06-05</td>\n",
       "      <td>PT9M55S</td>\n",
       "      <td>7</td>\n",
       "    </tr>\n",
       "    <tr>\n",
       "      <th>4</th>\n",
       "      <td>VID_770</td>\n",
       "      <td>1893173</td>\n",
       "      <td>2519</td>\n",
       "      <td>225</td>\n",
       "      <td>116</td>\n",
       "      <td>2016-09-03</td>\n",
       "      <td>PT3M8S</td>\n",
       "      <td>2</td>\n",
       "    </tr>\n",
       "  </tbody>\n",
       "</table>\n",
       "</div>"
      ],
      "text/plain": [
       "       vidid    views likes dislikes comment   published  duration  category\n",
       "0   VID_1054   440238  6153      218    1377  2017-02-18   PT7M29S         2\n",
       "1  VID_18629  1040132  8171      340    1047  2016-06-28   PT6M29S         6\n",
       "2  VID_13967    28534    31       11       1  2014-03-10  PT37M54S         4\n",
       "3  VID_19442  1316715  2284      250     274  2010-06-05   PT9M55S         7\n",
       "4    VID_770  1893173  2519      225     116  2016-09-03    PT3M8S         2"
      ]
     },
     "execution_count": 35,
     "metadata": {},
     "output_type": "execute_result"
    }
   ],
   "source": [
    "# Assigning each category a number for Category feature\n",
    "category={'A': 1,'B':2,'C':3,'D':4,'E':5,'F':6,'G':7,'H':8}\n",
    "dft[\"category\"]=dft[\"category\"].map(category)\n",
    "dft.head()"
   ]
  },
  {
   "cell_type": "code",
   "execution_count": 36,
   "id": "68b7a819",
   "metadata": {
    "execution": {
     "iopub.execute_input": "2024-07-25T08:10:48.635153Z",
     "iopub.status.busy": "2024-07-25T08:10:48.633976Z",
     "iopub.status.idle": "2024-07-25T08:10:48.701142Z",
     "shell.execute_reply": "2024-07-25T08:10:48.700392Z",
     "shell.execute_reply.started": "2024-07-25T08:05:14.954108Z"
    },
    "papermill": {
     "duration": 0.704654,
     "end_time": "2024-07-25T08:10:48.701380",
     "exception": false,
     "start_time": "2024-07-25T08:10:47.996726",
     "status": "completed"
    },
    "tags": []
   },
   "outputs": [
    {
     "data": {
      "text/html": [
       "<div>\n",
       "<style scoped>\n",
       "    .dataframe tbody tr th:only-of-type {\n",
       "        vertical-align: middle;\n",
       "    }\n",
       "\n",
       "    .dataframe tbody tr th {\n",
       "        vertical-align: top;\n",
       "    }\n",
       "\n",
       "    .dataframe thead th {\n",
       "        text-align: right;\n",
       "    }\n",
       "</style>\n",
       "<table border=\"1\" class=\"dataframe\">\n",
       "  <thead>\n",
       "    <tr style=\"text-align: right;\">\n",
       "      <th></th>\n",
       "      <th>vidid</th>\n",
       "      <th>views</th>\n",
       "      <th>likes</th>\n",
       "      <th>dislikes</th>\n",
       "      <th>comment</th>\n",
       "      <th>published</th>\n",
       "      <th>duration</th>\n",
       "      <th>category</th>\n",
       "    </tr>\n",
       "  </thead>\n",
       "  <tbody>\n",
       "    <tr>\n",
       "      <th>0</th>\n",
       "      <td>231</td>\n",
       "      <td>440238</td>\n",
       "      <td>6153</td>\n",
       "      <td>218</td>\n",
       "      <td>1377</td>\n",
       "      <td>2053</td>\n",
       "      <td>2115</td>\n",
       "      <td>2</td>\n",
       "    </tr>\n",
       "    <tr>\n",
       "      <th>1</th>\n",
       "      <td>3444</td>\n",
       "      <td>1040132</td>\n",
       "      <td>8171</td>\n",
       "      <td>340</td>\n",
       "      <td>1047</td>\n",
       "      <td>1825</td>\n",
       "      <td>2055</td>\n",
       "      <td>6</td>\n",
       "    </tr>\n",
       "    <tr>\n",
       "      <th>2</th>\n",
       "      <td>1593</td>\n",
       "      <td>28534</td>\n",
       "      <td>31</td>\n",
       "      <td>11</td>\n",
       "      <td>1</td>\n",
       "      <td>1009</td>\n",
       "      <td>1506</td>\n",
       "      <td>4</td>\n",
       "    </tr>\n",
       "    <tr>\n",
       "      <th>3</th>\n",
       "      <td>3775</td>\n",
       "      <td>1316715</td>\n",
       "      <td>2284</td>\n",
       "      <td>250</td>\n",
       "      <td>274</td>\n",
       "      <td>116</td>\n",
       "      <td>2265</td>\n",
       "      <td>7</td>\n",
       "    </tr>\n",
       "    <tr>\n",
       "      <th>4</th>\n",
       "      <td>7644</td>\n",
       "      <td>1893173</td>\n",
       "      <td>2519</td>\n",
       "      <td>225</td>\n",
       "      <td>116</td>\n",
       "      <td>1892</td>\n",
       "      <td>1625</td>\n",
       "      <td>2</td>\n",
       "    </tr>\n",
       "  </tbody>\n",
       "</table>\n",
       "</div>"
      ],
      "text/plain": [
       "   vidid    views  likes  dislikes  comment  published  duration  category\n",
       "0    231   440238   6153       218     1377       2053      2115         2\n",
       "1   3444  1040132   8171       340     1047       1825      2055         6\n",
       "2   1593    28534     31        11        1       1009      1506         4\n",
       "3   3775  1316715   2284       250      274        116      2265         7\n",
       "4   7644  1893173   2519       225      116       1892      1625         2"
      ]
     },
     "execution_count": 36,
     "metadata": {},
     "output_type": "execute_result"
    }
   ],
   "source": [
    "# Convert values to integers for views, likes, comments, dislikes and adview\n",
    "dft[\"views\"] = pd.to_numeric(dft[\"views\"])\n",
    "dft[\"comment\"] = pd.to_numeric(dft[\"comment\"])\n",
    "dft[\"likes\"] = pd.to_numeric(dft[\"likes\"])\n",
    "dft[\"dislikes\"] = pd.to_numeric(dft[\"dislikes\"])\n",
    "column_vidid=dft['vidid']\n",
    "\n",
    "# Endoding features like Category, Duration, Vidid\n",
    "from sklearn.preprocessing import LabelEncoder\n",
    "dft['duration']=LabelEncoder().fit_transform(dft['duration'])\n",
    "dft['vidid']=LabelEncoder().fit_transform(dft['vidid'])\n",
    "dft['published']=LabelEncoder().fit_transform(dft['published'])\n",
    "dft.head()"
   ]
  },
  {
   "cell_type": "code",
   "execution_count": 37,
   "id": "6bc34bd1",
   "metadata": {
    "execution": {
     "iopub.execute_input": "2024-07-25T08:10:49.968013Z",
     "iopub.status.busy": "2024-07-25T08:10:49.967137Z",
     "iopub.status.idle": "2024-07-25T08:10:50.084937Z",
     "shell.execute_reply": "2024-07-25T08:10:50.084154Z",
     "shell.execute_reply.started": "2024-07-25T08:05:15.012089Z"
    },
    "papermill": {
     "duration": 0.752044,
     "end_time": "2024-07-25T08:10:50.085100",
     "exception": false,
     "start_time": "2024-07-25T08:10:49.333056",
     "status": "completed"
    },
    "tags": []
   },
   "outputs": [
    {
     "data": {
      "text/html": [
       "<div>\n",
       "<style scoped>\n",
       "    .dataframe tbody tr th:only-of-type {\n",
       "        vertical-align: middle;\n",
       "    }\n",
       "\n",
       "    .dataframe tbody tr th {\n",
       "        vertical-align: top;\n",
       "    }\n",
       "\n",
       "    .dataframe thead th {\n",
       "        text-align: right;\n",
       "    }\n",
       "</style>\n",
       "<table border=\"1\" class=\"dataframe\">\n",
       "  <thead>\n",
       "    <tr style=\"text-align: right;\">\n",
       "      <th></th>\n",
       "      <th>vidid</th>\n",
       "      <th>views</th>\n",
       "      <th>likes</th>\n",
       "      <th>dislikes</th>\n",
       "      <th>comment</th>\n",
       "      <th>published</th>\n",
       "      <th>duration</th>\n",
       "      <th>category</th>\n",
       "    </tr>\n",
       "  </thead>\n",
       "  <tbody>\n",
       "    <tr>\n",
       "      <th>0</th>\n",
       "      <td>231</td>\n",
       "      <td>440238</td>\n",
       "      <td>6153</td>\n",
       "      <td>218</td>\n",
       "      <td>1377</td>\n",
       "      <td>2053</td>\n",
       "      <td>449</td>\n",
       "      <td>2</td>\n",
       "    </tr>\n",
       "    <tr>\n",
       "      <th>1</th>\n",
       "      <td>3444</td>\n",
       "      <td>1040132</td>\n",
       "      <td>8171</td>\n",
       "      <td>340</td>\n",
       "      <td>1047</td>\n",
       "      <td>1825</td>\n",
       "      <td>389</td>\n",
       "      <td>6</td>\n",
       "    </tr>\n",
       "    <tr>\n",
       "      <th>2</th>\n",
       "      <td>1593</td>\n",
       "      <td>28534</td>\n",
       "      <td>31</td>\n",
       "      <td>11</td>\n",
       "      <td>1</td>\n",
       "      <td>1009</td>\n",
       "      <td>2274</td>\n",
       "      <td>4</td>\n",
       "    </tr>\n",
       "    <tr>\n",
       "      <th>3</th>\n",
       "      <td>3775</td>\n",
       "      <td>1316715</td>\n",
       "      <td>2284</td>\n",
       "      <td>250</td>\n",
       "      <td>274</td>\n",
       "      <td>116</td>\n",
       "      <td>595</td>\n",
       "      <td>7</td>\n",
       "    </tr>\n",
       "    <tr>\n",
       "      <th>4</th>\n",
       "      <td>7644</td>\n",
       "      <td>1893173</td>\n",
       "      <td>2519</td>\n",
       "      <td>225</td>\n",
       "      <td>116</td>\n",
       "      <td>1892</td>\n",
       "      <td>188</td>\n",
       "      <td>2</td>\n",
       "    </tr>\n",
       "  </tbody>\n",
       "</table>\n",
       "</div>"
      ],
      "text/plain": [
       "   vidid    views  likes  dislikes  comment  published  duration  category\n",
       "0    231   440238   6153       218     1377       2053       449         2\n",
       "1   3444  1040132   8171       340     1047       1825       389         6\n",
       "2   1593    28534     31        11        1       1009      2274         4\n",
       "3   3775  1316715   2284       250      274        116       595         7\n",
       "4   7644  1893173   2519       225      116       1892       188         2"
      ]
     },
     "execution_count": 37,
     "metadata": {},
     "output_type": "execute_result"
    }
   ],
   "source": [
    "def checki(x):\n",
    "  y = x[2:]\n",
    "  h = ''\n",
    "  m = ''\n",
    "  s = ''\n",
    "  mm = ''\n",
    "  P = ['H','M','S']\n",
    "  for i in y:\n",
    "    if i not in P:\n",
    "      mm+=i\n",
    "    else:\n",
    "      if(i==\"H\"):\n",
    "        h = mm\n",
    "        mm = ''\n",
    "      elif(i == \"M\"):\n",
    "        m = mm\n",
    "        mm = ''\n",
    "      else:\n",
    "        s = mm\n",
    "        mm = ''\n",
    "  if(h==''):\n",
    "    h = '00'\n",
    "  if(m == ''):\n",
    "    m = '00'\n",
    "  if(s==''):\n",
    "    s='00'\n",
    "  bp = h+':'+m+':'+s\n",
    "  return bp\n",
    "\n",
    "train=pd.read_csv(\"../input/youtube-adview-dataset/test.csv\")\n",
    "mp = pd.read_csv(\"../input/youtube-adview-dataset/test.csv\")[\"duration\"]\n",
    "time = mp.apply(checki)\n",
    "\n",
    "def func_sec(time_string):\n",
    "  h, m, s = time_string.split(':')\n",
    "  return int(h) * 3600 + int(m) * 60 + int(s)\n",
    "\n",
    "time1=time.apply(func_sec)\n",
    "\n",
    "dft[\"duration\"]=time1\n",
    "dft.head()"
   ]
  },
  {
   "cell_type": "code",
   "execution_count": 38,
   "id": "b04cbb44",
   "metadata": {
    "execution": {
     "iopub.execute_input": "2024-07-25T08:10:51.351622Z",
     "iopub.status.busy": "2024-07-25T08:10:51.350755Z",
     "iopub.status.idle": "2024-07-25T08:10:51.363160Z",
     "shell.execute_reply": "2024-07-25T08:10:51.362535Z",
     "shell.execute_reply.started": "2024-07-25T08:05:15.109443Z"
    },
    "papermill": {
     "duration": 0.645814,
     "end_time": "2024-07-25T08:10:51.363315",
     "exception": false,
     "start_time": "2024-07-25T08:10:50.717501",
     "status": "completed"
    },
    "tags": []
   },
   "outputs": [
    {
     "data": {
      "text/html": [
       "<div>\n",
       "<style scoped>\n",
       "    .dataframe tbody tr th:only-of-type {\n",
       "        vertical-align: middle;\n",
       "    }\n",
       "\n",
       "    .dataframe tbody tr th {\n",
       "        vertical-align: top;\n",
       "    }\n",
       "\n",
       "    .dataframe thead th {\n",
       "        text-align: right;\n",
       "    }\n",
       "</style>\n",
       "<table border=\"1\" class=\"dataframe\">\n",
       "  <thead>\n",
       "    <tr style=\"text-align: right;\">\n",
       "      <th></th>\n",
       "      <th>views</th>\n",
       "      <th>likes</th>\n",
       "      <th>dislikes</th>\n",
       "      <th>comment</th>\n",
       "      <th>published</th>\n",
       "      <th>duration</th>\n",
       "      <th>category</th>\n",
       "    </tr>\n",
       "  </thead>\n",
       "  <tbody>\n",
       "    <tr>\n",
       "      <th>0</th>\n",
       "      <td>440238</td>\n",
       "      <td>6153</td>\n",
       "      <td>218</td>\n",
       "      <td>1377</td>\n",
       "      <td>2053</td>\n",
       "      <td>449</td>\n",
       "      <td>2</td>\n",
       "    </tr>\n",
       "    <tr>\n",
       "      <th>1</th>\n",
       "      <td>1040132</td>\n",
       "      <td>8171</td>\n",
       "      <td>340</td>\n",
       "      <td>1047</td>\n",
       "      <td>1825</td>\n",
       "      <td>389</td>\n",
       "      <td>6</td>\n",
       "    </tr>\n",
       "    <tr>\n",
       "      <th>2</th>\n",
       "      <td>28534</td>\n",
       "      <td>31</td>\n",
       "      <td>11</td>\n",
       "      <td>1</td>\n",
       "      <td>1009</td>\n",
       "      <td>2274</td>\n",
       "      <td>4</td>\n",
       "    </tr>\n",
       "    <tr>\n",
       "      <th>3</th>\n",
       "      <td>1316715</td>\n",
       "      <td>2284</td>\n",
       "      <td>250</td>\n",
       "      <td>274</td>\n",
       "      <td>116</td>\n",
       "      <td>595</td>\n",
       "      <td>7</td>\n",
       "    </tr>\n",
       "    <tr>\n",
       "      <th>4</th>\n",
       "      <td>1893173</td>\n",
       "      <td>2519</td>\n",
       "      <td>225</td>\n",
       "      <td>116</td>\n",
       "      <td>1892</td>\n",
       "      <td>188</td>\n",
       "      <td>2</td>\n",
       "    </tr>\n",
       "  </tbody>\n",
       "</table>\n",
       "</div>"
      ],
      "text/plain": [
       "     views  likes  dislikes  comment  published  duration  category\n",
       "0   440238   6153       218     1377       2053       449         2\n",
       "1  1040132   8171       340     1047       1825       389         6\n",
       "2    28534     31        11        1       1009      2274         4\n",
       "3  1316715   2284       250      274        116       595         7\n",
       "4  1893173   2519       225      116       1892       188         2"
      ]
     },
     "execution_count": 38,
     "metadata": {},
     "output_type": "execute_result"
    }
   ],
   "source": [
    "dft=dft.drop([\"vidid\"],axis=1)\n",
    "dft.head()"
   ]
  },
  {
   "cell_type": "code",
   "execution_count": 39,
   "id": "55eea83d",
   "metadata": {
    "execution": {
     "iopub.execute_input": "2024-07-25T08:10:52.622839Z",
     "iopub.status.busy": "2024-07-25T08:10:52.621558Z",
     "iopub.status.idle": "2024-07-25T08:10:52.629316Z",
     "shell.execute_reply": "2024-07-25T08:10:52.628409Z",
     "shell.execute_reply.started": "2024-07-25T08:05:15.126139Z"
    },
    "papermill": {
     "duration": 0.635834,
     "end_time": "2024-07-25T08:10:52.629544",
     "exception": false,
     "start_time": "2024-07-25T08:10:51.993710",
     "status": "completed"
    },
    "tags": []
   },
   "outputs": [],
   "source": [
    "from sklearn.preprocessing import MinMaxScaler\n",
    "scaler = MinMaxScaler()\n",
    "X_test = dft\n",
    "X_test=scaler.fit_transform(X_test)"
   ]
  },
  {
   "cell_type": "code",
   "execution_count": 40,
   "id": "19ecd59d",
   "metadata": {
    "execution": {
     "iopub.execute_input": "2024-07-25T08:10:53.900581Z",
     "iopub.status.busy": "2024-07-25T08:10:53.899667Z",
     "iopub.status.idle": "2024-07-25T08:10:54.341260Z",
     "shell.execute_reply": "2024-07-25T08:10:54.340476Z",
     "shell.execute_reply.started": "2024-07-25T08:05:15.140178Z"
    },
    "papermill": {
     "duration": 1.084681,
     "end_time": "2024-07-25T08:10:54.341537",
     "exception": false,
     "start_time": "2024-07-25T08:10:53.256856",
     "status": "completed"
    },
    "tags": []
   },
   "outputs": [],
   "source": [
    "prediction = model.predict(X_test)"
   ]
  },
  {
   "cell_type": "code",
   "execution_count": 41,
   "id": "0afb6c28",
   "metadata": {
    "execution": {
     "iopub.execute_input": "2024-07-25T08:10:55.753681Z",
     "iopub.status.busy": "2024-07-25T08:10:55.752763Z",
     "iopub.status.idle": "2024-07-25T08:10:55.757219Z",
     "shell.execute_reply": "2024-07-25T08:10:55.756395Z",
     "shell.execute_reply.started": "2024-07-25T08:05:15.454241Z"
    },
    "papermill": {
     "duration": 0.7656,
     "end_time": "2024-07-25T08:10:55.757439",
     "exception": false,
     "start_time": "2024-07-25T08:10:54.991839",
     "status": "completed"
    },
    "tags": []
   },
   "outputs": [
    {
     "name": "stdout",
     "output_type": "stream",
     "text": [
      "<class 'pandas.core.frame.DataFrame'>\n",
      "RangeIndex: 8549 entries, 0 to 8548\n",
      "Data columns (total 1 columns):\n",
      " #   Column  Non-Null Count  Dtype  \n",
      "---  ------  --------------  -----  \n",
      " 0   0       8549 non-null   float32\n",
      "dtypes: float32(1)\n",
      "memory usage: 33.5 KB\n"
     ]
    }
   ],
   "source": [
    "prediction=pd.DataFrame(prediction)\n",
    "prediction.info()"
   ]
  },
  {
   "cell_type": "code",
   "execution_count": 42,
   "id": "1b1ab204",
   "metadata": {
    "execution": {
     "iopub.execute_input": "2024-07-25T08:10:57.041467Z",
     "iopub.status.busy": "2024-07-25T08:10:57.040124Z",
     "iopub.status.idle": "2024-07-25T08:10:57.043404Z",
     "shell.execute_reply": "2024-07-25T08:10:57.044664Z",
     "shell.execute_reply.started": "2024-07-25T08:05:15.468738Z"
    },
    "papermill": {
     "duration": 0.663362,
     "end_time": "2024-07-25T08:10:57.044970",
     "exception": false,
     "start_time": "2024-07-25T08:10:56.381608",
     "status": "completed"
    },
    "tags": []
   },
   "outputs": [],
   "source": [
    "prediction = prediction.rename(columns={0: \"views\"})"
   ]
  },
  {
   "cell_type": "code",
   "execution_count": 43,
   "id": "ef2e8658",
   "metadata": {
    "execution": {
     "iopub.execute_input": "2024-07-25T08:10:58.426119Z",
     "iopub.status.busy": "2024-07-25T08:10:58.425097Z",
     "iopub.status.idle": "2024-07-25T08:10:58.430151Z",
     "shell.execute_reply": "2024-07-25T08:10:58.429432Z",
     "shell.execute_reply.started": "2024-07-25T08:05:15.479677Z"
    },
    "papermill": {
     "duration": 0.703096,
     "end_time": "2024-07-25T08:10:58.430331",
     "exception": false,
     "start_time": "2024-07-25T08:10:57.727235",
     "status": "completed"
    },
    "tags": []
   },
   "outputs": [
    {
     "data": {
      "text/html": [
       "<div>\n",
       "<style scoped>\n",
       "    .dataframe tbody tr th:only-of-type {\n",
       "        vertical-align: middle;\n",
       "    }\n",
       "\n",
       "    .dataframe tbody tr th {\n",
       "        vertical-align: top;\n",
       "    }\n",
       "\n",
       "    .dataframe thead th {\n",
       "        text-align: right;\n",
       "    }\n",
       "</style>\n",
       "<table border=\"1\" class=\"dataframe\">\n",
       "  <thead>\n",
       "    <tr style=\"text-align: right;\">\n",
       "      <th></th>\n",
       "      <th>views</th>\n",
       "    </tr>\n",
       "  </thead>\n",
       "  <tbody>\n",
       "    <tr>\n",
       "      <th>0</th>\n",
       "      <td>2132.717041</td>\n",
       "    </tr>\n",
       "    <tr>\n",
       "      <th>1</th>\n",
       "      <td>2176.770020</td>\n",
       "    </tr>\n",
       "    <tr>\n",
       "      <th>2</th>\n",
       "      <td>1062.740967</td>\n",
       "    </tr>\n",
       "    <tr>\n",
       "      <th>3</th>\n",
       "      <td>2.245073</td>\n",
       "    </tr>\n",
       "    <tr>\n",
       "      <th>4</th>\n",
       "      <td>2025.565552</td>\n",
       "    </tr>\n",
       "  </tbody>\n",
       "</table>\n",
       "</div>"
      ],
      "text/plain": [
       "         views\n",
       "0  2132.717041\n",
       "1  2176.770020\n",
       "2  1062.740967\n",
       "3     2.245073\n",
       "4  2025.565552"
      ]
     },
     "execution_count": 43,
     "metadata": {},
     "output_type": "execute_result"
    }
   ],
   "source": [
    "prediction.head()"
   ]
  },
  {
   "cell_type": "code",
   "execution_count": 44,
   "id": "efd4fd43",
   "metadata": {
    "execution": {
     "iopub.execute_input": "2024-07-25T08:10:59.714920Z",
     "iopub.status.busy": "2024-07-25T08:10:59.713950Z",
     "iopub.status.idle": "2024-07-25T08:10:59.754219Z",
     "shell.execute_reply": "2024-07-25T08:10:59.753438Z",
     "shell.execute_reply.started": "2024-07-25T08:05:15.498774Z"
    },
    "papermill": {
     "duration": 0.685354,
     "end_time": "2024-07-25T08:10:59.754454",
     "exception": false,
     "start_time": "2024-07-25T08:10:59.069100",
     "status": "completed"
    },
    "tags": []
   },
   "outputs": [],
   "source": [
    "prediction.to_csv('predictions.csv')"
   ]
  }
 ],
 "metadata": {
  "kaggle": {
   "accelerator": "none",
   "dataSources": [
    {
     "datasetId": 1450156,
     "sourceId": 2398248,
     "sourceType": "datasetVersion"
    }
   ],
   "dockerImageVersionId": 30157,
   "isGpuEnabled": false,
   "isInternetEnabled": false,
   "language": "python",
   "sourceType": "notebook"
  },
  "kernelspec": {
   "display_name": "Python 3",
   "language": "python",
   "name": "python3"
  },
  "language_info": {
   "codemirror_mode": {
    "name": "ipython",
    "version": 3
   },
   "file_extension": ".py",
   "mimetype": "text/x-python",
   "name": "python",
   "nbconvert_exporter": "python",
   "pygments_lexer": "ipython3",
   "version": "3.7.12"
  },
  "papermill": {
   "default_parameters": {},
   "duration": 291.912673,
   "end_time": "2024-07-25T08:11:03.011783",
   "environment_variables": {},
   "exception": null,
   "input_path": "__notebook__.ipynb",
   "output_path": "__notebook__.ipynb",
   "parameters": {},
   "start_time": "2024-07-25T08:06:11.099110",
   "version": "2.3.3"
  }
 },
 "nbformat": 4,
 "nbformat_minor": 5
}
